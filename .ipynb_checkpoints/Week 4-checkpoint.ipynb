{
 "metadata": {
  "name": ""
 },
 "nbformat": 3,
 "nbformat_minor": 0,
 "worksheets": [
  {
   "cells": [
    {
     "cell_type": "markdown",
     "metadata": {},
     "source": [
      "$$ x \\leq 5 $$\n",
      "\n",
      "MathJax is nice for writing math equations with Greek letters, including $\\alpha$ and $\\beta$:\n",
      "\n",
      "$$ y = \\alpha  x + \\beta $$"
     ]
    },
    {
     "cell_type": "markdown",
     "metadata": {},
     "source": [
      "$$ J(\\theta) = \\frac{1}{m} \\sum_{i=1}^{m} \\Bigg[ -y^{(i)} \\log(h_{\\theta}(x^{(i)}))-(1-y^{(i)}) \\log(1-h_{\\theta}(x^{(i)})\\Bigg]$$"
     ]
    },
    {
     "cell_type": "markdown",
     "metadata": {},
     "source": [
      "Non-Linear Clssification\n",
      "\n",
      "$$ g(\\theta_0+\\theta_1x_1+\\theta_2x_2+\\theta_3x_1x_2) $$\n",
      "\n",
      "Number of Quadatic features: $(x_i x_j)$\n",
      "\n"
     ]
    },
    {
     "cell_type": "markdown",
     "metadata": {},
     "source": [
      "Neuron Model\n",
      "\n",
      "$x_0$ bias unit\n",
      "\n",
      "x = matrix of features\n",
      "\n",
      "$\\theta$ = matrix of results\n",
      "\n",
      "$$h_{\\theta}(x)$$\n",
      "\n"
     ]
    },
    {
     "cell_type": "markdown",
     "metadata": {},
     "source": [
      "XOR == add the bits modulo 2"
     ]
    },
    {
     "cell_type": "markdown",
     "metadata": {},
     "source": [
      "Multiclass Output:\n",
      "\n",
      "$$ h_{\\theta}(x)\\in{R^n} $$"
     ]
    },
    {
     "cell_type": "code",
     "collapsed": false,
     "input": [],
     "language": "python",
     "metadata": {},
     "outputs": []
    }
   ],
   "metadata": {}
  }
 ]
}