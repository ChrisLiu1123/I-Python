{
 "metadata": {
  "kernelspec": {
   "display_name": "Python 2",
   "language": "python",
   "name": "python2"
  },
  "language_info": {
   "codemirror_mode": {
    "name": "ipython",
    "version": 2
   },
   "file_extension": ".py",
   "mimetype": "text/x-python",
   "name": "python",
   "nbconvert_exporter": "python",
   "pygments_lexer": "ipython2",
   "version": "2.7.10"
  },
  "name": ""
 },
 "nbformat": 3,
 "nbformat_minor": 0,
 "worksheets": [
  {
   "cells": [
    {
     "cell_type": "heading",
     "level": 1,
     "metadata": {},
     "source": [
      "Importing Modules"
     ]
    },
    {
     "cell_type": "code",
     "collapsed": false,
     "input": [
      "from sklearn.svm import SVC\n",
      "import numpy as np\n",
      "import math\n",
      "import matplotlib.pyplot as plt\n",
      "%matplotlib inline"
     ],
     "language": "python",
     "metadata": {},
     "outputs": [],
     "prompt_number": 33
    },
    {
     "cell_type": "heading",
     "level": 2,
     "metadata": {},
     "source": [
      "Importing raw data from .csv"
     ]
    },
    {
     "cell_type": "code",
     "collapsed": false,
     "input": [
      "import csv\n",
      "o = open('Video_Game_Review_Pipeline_Data.csv', 'rU')\n",
      "mydata = csv.reader(o)\n",
      "\n",
      "text = []\n",
      "rating = []\n",
      "for row in mydata:\n",
      "    text.append(row[0])\n",
      "    rating.append(row[1])\n",
      "    "
     ],
     "language": "python",
     "metadata": {},
     "outputs": [],
     "prompt_number": 34
    },
    {
     "cell_type": "markdown",
     "metadata": {},
     "source": [
      "#Pre-processing Data"
     ]
    },
    {
     "cell_type": "code",
     "collapsed": false,
     "input": [
      "processed = []\n",
      "for item in text:\n",
      "    divided = item.split()\n",
      "    processed.append(divided)\n",
      "\n",
      "def analyze(list_1):\n",
      "    new = [0,0,0,0,0,0,0,0,0,0,0,0,0,0,0,0,0,0,0,0,0]\n",
      "    for x in Item:\n",
      "        if x in ['bad','Bad','bad.']:\n",
      "            new[0] = 1\n",
      "        elif x in ['sucks','sucks.']:\n",
      "            new[1] = 1\n",
      "        elif x in ['boring','boring.','boring,']:\n",
      "            new[2] = 1\n",
      "        elif x in ['terrible','terrible,','terrible.']:\n",
      "            new[3] = 1\n",
      "        elif x in ['horrible','horrible,','horrible.']:\n",
      "            new[4] = 1\n",
      "        elif x in ['disappointing','dissapointing,','dissapointing.']:\n",
      "            new[5] = 1\n",
      "        elif x in ['hack-n-slash','hack-n-slash,']:\n",
      "            new[6] = 1\n",
      "        elif x in ['buggy','buggy,','buggy.']:\n",
      "            new[7] = 1\n",
      "        elif x in ['repetitive','repetitive,','repetitive.']:\n",
      "            new[8] = 1\n",
      "        elif x in ['glitchy','glitchy,','glitchy.']:\n",
      "            new[9] = 1\n",
      "        elif x in ['overrarted','overrated,','overrated.']:\n",
      "            new[10] = 1\n",
      "        elif x in ['great','great.']:\n",
      "            new[11] = 1\n",
      "        elif x in ['greatest','Greatest','greatest!']:\n",
      "            new[12] = 1\n",
      "        elif x in ['good','good.']:\n",
      "            new[13] = 1\n",
      "        elif x in ['best','best.']:\n",
      "            new[14] = 1\n",
      "        elif x in ['fun','fun,','fun.']:\n",
      "            new[15] = 1\n",
      "        elif x in ['beautiful','beautiful,','beautiful']:\n",
      "            new[16] = 1\n",
      "        elif x in ['epic','epic,','epic.','Epic']:\n",
      "            new[17] = 1\n",
      "        elif x in ['immersive','immersion','immersive,','immersive.']:\n",
      "            new[18] = 1\n",
      "        elif x in ['addictive','addictive,','addictive.']:\n",
      "            new[19] = 1\n",
      "        elif x in ['not','Not']:\n",
      "            new[20] = 1\n",
      "    return(new)\n",
      "\n",
      "for Item in processed:\n",
      "    processed[processed.index(Item)] = analyze(Item)\n",
      "    \n",
      "print(processed)\n",
      "\n",
      "rprocessed = []\n",
      "for rate in rating:\n",
      "    rprocessed.append(int(rate))\n",
      "\n",
      "print(rprocessed)"
     ],
     "language": "python",
     "metadata": {},
     "outputs": [
      {
       "output_type": "stream",
       "stream": "stdout",
       "text": [
        "[[1, 0, 0, 0, 0, 0, 0, 0, 0, 0, 0, 0, 0, 1, 0, 0, 0, 0, 0, 0, 1], [1, 0, 0, 0, 0, 0, 0, 0, 0, 0, 0, 1, 0, 0, 0, 0, 1, 1, 0, 0, 1], [0, 0, 0, 0, 0, 0, 0, 0, 0, 0, 0, 1, 0, 0, 0, 0, 0, 0, 0, 0, 0], [0, 0, 0, 0, 0, 0, 0, 0, 0, 0, 0, 0, 0, 0, 0, 0, 0, 0, 0, 0, 0], [0, 0, 0, 0, 0, 0, 0, 0, 0, 0, 0, 0, 0, 0, 0, 0, 0, 0, 0, 0, 1], [0, 0, 0, 0, 0, 0, 0, 0, 0, 0, 0, 0, 0, 1, 0, 0, 0, 0, 0, 0, 0]]\n",
        "[1, 1, 1, 0, 0, 0]\n"
       ]
      }
     ],
     "prompt_number": 35
    },
    {
     "cell_type": "heading",
     "level": 1,
     "metadata": {},
     "source": [
      "Getting Sample Data"
     ]
    },
    {
     "cell_type": "code",
     "collapsed": false,
     "input": [
      "X = [[0,0,0,0,0,0,0,0,0,0,0,1,0,0,0,0,0,0,0,0],\n",
      "     [0,0,0,0,0,0,0,0,0,0,0,0,0,0,0,0,1,0,1,0],\n",
      "     [0,0,0,0,0,0,0,0,0,0,0,0,1,0,0,1,1,0,0,1],\n",
      "     [1,0,0,0,0,0,0,0,0,0,0,0,0,1,0,1,0,1,0,0],\n",
      "     [0,0,0,0,0,0,1,0,0,0,0,1,0,0,0,0,0,0,0,1],\n",
      "     [0,0,0,0,0,0,0,0,0,0,0,0,1,0,0,0,0,0,0,0],\n",
      "     [0,0,0,0,0,0,0,0,0,0,0,0,0,1,0,0,0,1,0,0],\n",
      "     [0,0,0,0,0,0,0,0,0,0,0,1,0,0,0,1,0,0,0,0],\n",
      "     [0,0,0,0,0,0,0,0,0,0,0,0,0,0,0,0,1,0,0,0],\n",
      "     [0,0,0,0,0,0,0,0,0,0,0,0,0,0,0,0,0,0,0,1],\n",
      "     [0,0,0,0,0,0,0,0,0,0,0,0,0,0,0,0,0,1,0,0],\n",
      "     [0,0,0,0,0,0,0,0,0,0,0,0,0,0,0,0,0,0,0,0],\n",
      "     [0,0,0,0,0,0,0,0,0,0,0,0,0,0,0,0,0,0,1,0],\n",
      "     [0,0,0,0,0,0,0,0,1,0,0,1,0,0,0,0,0,0,0,1],\n",
      "     [0,0,0,0,0,1,0,0,0,0,0,0,0,1,1,1,0,0,0,0],\n",
      "     [1,0,0,0,0,0,0,0,0,0,0,0,0,0,0,0,0,0,0,0],\n",
      "     [0,1,1,0,0,0,0,0,0,0,0,0,0,0,0,0,0,0,0,0],\n",
      "     [0,0,0,0,0,0,1,1,0,1,0,0,0,0,0,0,0,0,0,0],\n",
      "     [0,0,0,0,1,0,0,0,0,0,0,0,0,0,0,0,0,0,0,0],\n",
      "     [0,0,0,0,0,0,0,0,1,0,1,0,0,0,1,0,0,0,0,0],\n",
      "     [1,1,1,0,0,0,0,0,0,0,0,0,0,0,0,0,0,0,0,0],\n",
      "     [0,0,0,0,0,0,1,0,0,0,0,1,0,0,0,0,0,0,0,0],\n",
      "     [0,0,0,0,0,0,1,1,0,1,0,1,0,0,0,1,0,0,0,0],\n",
      "     [0,0,0,0,0,1,0,0,0,0,0,0,1,0,0,0,0,0,0,0],\n",
      "     [0,1,0,0,0,0,0,0,0,0,0,0,0,0,0,0,0,0,0,0],\n",
      "     [0,0,0,0,0,0,0,0,0,0,0,0,0,0,0,0,0,0,0,0],\n",
      "     [1,0,0,0,0,0,0,0,0,0,0,0,0,0,0,0,0,0,0,0],\n",
      "     [0,0,0,1,1,1,0,0,0,0,0,0,0,0,0,0,0,0,0,0],\n",
      "     [1,1,1,1,1,0,0,0,0,0,0,0,0,0,0,0,0,0,0,0],\n",
      "     [0,0,0,0,0,1,1,0,1,1,1,0,0,0,0,0,0,0,0,0]]\n",
      "     \n",
      "y = [1,1,1,1,1,1,1,1,1,1,1,1,1,1,1,0,0,0,0,0,0,0,0,0,0,0,0,0,0,0]\n",
      "\n"
     ],
     "language": "python",
     "metadata": {},
     "outputs": [],
     "prompt_number": 36
    },
    {
     "cell_type": "code",
     "collapsed": false,
     "input": [
      "X.shape()"
     ],
     "language": "python",
     "metadata": {},
     "outputs": [
      {
       "ename": "AttributeError",
       "evalue": "'list' object has no attribute 'shape'",
       "output_type": "pyerr",
       "traceback": [
        "\u001b[0;31m---------------------------------------------------------------------------\u001b[0m\n\u001b[0;31mAttributeError\u001b[0m                            Traceback (most recent call last)",
        "\u001b[0;32m<ipython-input-37-16ae0aed09f7>\u001b[0m in \u001b[0;36m<module>\u001b[0;34m()\u001b[0m\n\u001b[0;32m----> 1\u001b[0;31m \u001b[0mX\u001b[0m\u001b[0;34m.\u001b[0m\u001b[0mshape\u001b[0m\u001b[0;34m(\u001b[0m\u001b[0;34m)\u001b[0m\u001b[0;34m\u001b[0m\u001b[0m\n\u001b[0m",
        "\u001b[0;31mAttributeError\u001b[0m: 'list' object has no attribute 'shape'"
       ]
      }
     ],
     "prompt_number": 37
    },
    {
     "cell_type": "heading",
     "level": 1,
     "metadata": {},
     "source": [
      "Training With SVC"
     ]
    },
    {
     "cell_type": "code",
     "collapsed": false,
     "input": [
      "X = np.array(processed)\n",
      "Y = np.array(rprocessed)\n",
      "clf = SVC()\n",
      "clf.fit(X,Y)"
     ],
     "language": "python",
     "metadata": {},
     "outputs": [
      {
       "metadata": {},
       "output_type": "pyout",
       "prompt_number": 38,
       "text": [
        "SVC(C=1.0, cache_size=200, class_weight=None, coef0=0.0,\n",
        "  decision_function_shape=None, degree=3, gamma='auto', kernel='rbf',\n",
        "  max_iter=-1, probability=False, random_state=None, shrinking=True,\n",
        "  tol=0.001, verbose=False)"
       ]
      }
     ],
     "prompt_number": 38
    },
    {
     "cell_type": "markdown",
     "metadata": {},
     "source": [
      "#Input of Review"
     ]
    },
    {
     "cell_type": "code",
     "collapsed": false,
     "input": [
      "user = \"This video game sucks. It is so bad.\"\n",
      "user = user.split\n",
      "data = analyze(user)\n",
      "Z = [np.array(data)]\n",
      "print(clf.predict(data))"
     ],
     "language": "python",
     "metadata": {},
     "outputs": [
      {
       "output_type": "stream",
       "stream": "stdout",
       "text": [
        "[0]\n"
       ]
      }
     ],
     "prompt_number": 39
    },
    {
     "cell_type": "code",
     "collapsed": false,
     "input": [],
     "language": "python",
     "metadata": {},
     "outputs": [],
     "prompt_number": 37
    }
   ],
   "metadata": {}
  }
 ]
}