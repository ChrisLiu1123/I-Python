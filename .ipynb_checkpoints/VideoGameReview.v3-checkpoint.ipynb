{
 "metadata": {
  "kernelspec": {
   "display_name": "Python 2",
   "language": "python",
   "name": "python2"
  },
  "language_info": {
   "codemirror_mode": {
    "name": "ipython",
    "version": 2
   },
   "file_extension": ".py",
   "mimetype": "text/x-python",
   "name": "python",
   "nbconvert_exporter": "python",
   "pygments_lexer": "ipython2",
   "version": "2.7.10"
  },
  "name": ""
 },
 "nbformat": 3,
 "nbformat_minor": 0,
 "worksheets": [
  {
   "cells": [
    {
     "cell_type": "heading",
     "level": 1,
     "metadata": {},
     "source": [
      "Importing Modules"
     ]
    },
    {
     "cell_type": "code",
     "collapsed": false,
     "input": [
      "from sklearn import svm\n",
      "import numpy as np\n",
      "import math\n",
      "import matplotlib.pyplot as plt\n",
      "%matplotlib inline"
     ],
     "language": "python",
     "metadata": {},
     "outputs": [],
     "prompt_number": 1
    },
    {
     "cell_type": "heading",
     "level": 2,
     "metadata": {},
     "source": [
      "Importing raw data from .csv"
     ]
    },
    {
     "cell_type": "code",
     "collapsed": false,
     "input": [
      "import csv\n",
      "o = open('Video_Game_Review_Pipeline_Data.csv', 'rU')\n",
      "mydata = csv.reader(o)\n",
      "\n",
      "text = []\n",
      "rating = []\n",
      "for row in mydata:\n",
      "    text.append(row[0])\n",
      "    rating.append(row[1])\n",
      "    \n",
      "print text\n",
      "print rating"
     ],
     "language": "python",
     "metadata": {},
     "outputs": [
      {
       "output_type": "stream",
       "stream": "stdout",
       "text": [
        "[\"I am 64 years old, and used to love RPG's back in the day. I haven't played any for years although I liked Daggerfall, Phantasy Star, Ultima 7, even Pool of Radiance way when they were new. Anyway, I thought I'd try Skyrim. Reading the reviews, I was a little intimidated. What's this Steam stuff? I never heard of Steam. What about the long download time everybody is talking about? I opened a Steam account and installed Steam the night before Skyrim was delivered, by just going to the steam website. [...] . Easy. I didn't have to give Steam much of any info about me, other than an email address. No credit card, no real name, the usual consents, and so on. Verdict: Steam is not all that bad so far. When I received the software I followed the simple directions, which were: Insert disk, run setup, follow directions. That is really all that I needed to do. Download time for the game on a Friday at 3:30 PM was 11 minutes, and download time for the patch was 1 more minute. Then, Steam wanted to upgrade my Active X and such (on a one year old high end Dell laptop with Windows 7, gee...), and that took another 5-6 minutes or so. So, I was playing within less than 20 minutes after opening the box. Can't get much easier than that. An 11 minute game installation? What a surprise! Bear in mind that I live in New Orleans, not out in the country, but my Cox Cable connection is nothing special and just the usual cable connection. So, if you live in a metropolitan area and have high speed internet, and if your computer meets the game requirements I'd say you will be fine. Speaking of which, the package says minimum system requirements are: Operating system: XP, Vista, Windows 7 Processor: Dual Core 2.0 GHz Memory: 2GB RAM, 7GB free hard drive space Video Card: Direct-X 9.0c Compliant video card with 512 MB of RAM It also says increased performance will be noticed on more powerful systems. It will take me a while to get used to the assigned keys for various movements and actions, and the camera angles of modern video games, but so far, so good. After just an hour of game play I don't feel completely confident yet of being able to handle combat very competently or avoid it, but I'm sure that will come in a day or two. Don't start playing until you have an hour or so of free time, at least, because you will start as a prisoner about to be executed, just before a battle with a dragon begins. Talk about stress. :) I managed to get away from the dragon and those who wanted to kill me, and learned to equip weapons and armor, got to a safe place at the guy's uncle's house, and talked to him. Then just before I was headed out again to explore, the game crashed. I am not expecting this to be a major problem because I had been playing quite some time by then and these things happen. If it turns out that the game repeatedly crashes, I'll edit this review later on. All in all, I am pleased. Obviously I haven't gone very far in this game yet, but I am looking forward to more game play. I just wanted to encourage any other older players that might be feeling a little intimidated, to give the game a try.\", \"The ELDER SCROLLS series has given us a number of masterpieces over the years. Morrowind will always remain etched on my brain whereas Oblivion has offered a vast world I found myself immersed into for hours at no end. Following up on footsteps of such giants is never easy. And yet the 5th installment of the series, SKYRIM, still managed to impress and ensnare me. INFINITE. INFINITE IN ALL DIRECTIONS. For SKYRIM, Bethesda will only take up 6GB on your HDD and with that the game designers created a literally endless world, with extremely long drawing distances, high mountains, passing clouds, dark forests, foliage moving to the wind and water trickling in streams. Everything you see in the horizon is actually accessible. Now, compare that to the ...21GB Rage takes up for a much, much more small and visually limited world to realize what was accomplished with SKYRIM. The world is absolutely huge - and it feels real. The graphics are gorgeous, almost realistic. Sure, I could do with somewhat more detailed textures when it comes to clothing (they look much better in the inventory than when worn) as well as a more bold color palette (besides grasses, there are also colorful wildflowers, Bethesda); however, the imaginative design of the items and equipment, the natural movements of the characters and the way light and shadows play with each other all the time more than make up for these shortcomings. The game is as beautiful as it is deep and endless. ALL SCHOOLS OF FIGHTING ARE WELCOME Each hand has its own menu. You can go with sword and shield or spell and weapon, dual weapons or dual spells (yes, spells can be combined - and the spell effects are very impressive, especially the frost and thermal ones!). Ana always keep in mind: some Words have power beyond any comprehension. The camera is very accommodating and both First-Person and Third-Person views are available. It will take some time before you settle into your own fighting style but once that is done the game mechanics will feel like second nature to you. Yes, the finishing moves reminded me of Fallout 3 however, it would not be fair to claim that SKYRIM is the mere cross between FALLOUT 3 and OBLIVION. SKYRIM was much anticipated and its gameplay does not disappoint in any way. USE OR LOSE IT This is true to all living things and it also true in SKYRIM. In the beginning of the game you only get to choose what your hero looks like. How you then play the game will determine what class and what abilities your hero will acquire. The skills you use the most are the ones you are actually getting better at. You can also increase your skills by skill training and reading a skill book. Leveling up heals your hero (health and magicka) and you can unlock a skill perk and increase one attribute reserve (health, stamina or magicka) by 10 points. Both the enemies you encounter and the loot you find level up with you, however there are areas designed to be almost impossible to lower level heroes. A word of advice: until you are powerful enough, avoid going up into the mountains. I had to learn this the hard way! There are Achievement you earn but this is what I found beautiful: as you progress the game creates constellations corresponding to your skills and perks and, so, you can see your character make its mark, well, in the sky of SKYRIM. KEEP YOUR EARS OPEN. IT PAYS I usually do not pay attention to the sounds of a game. The less I notice them, the more natural they usually are. In SKYRIM both the ambient and action sounds are so well made that they stand out at first. After a while you take them form granted and blend into the background - yet they keep adding greatly to the total immersion. Draw a sword, deflect an arrow with your shield or walk in a narrow corridor and you will see what I mean. Moreover, the background music, whenever cued, is also epic and majestic, like a medieval liturgy choir chanting about your deeds. One name should describe its impact: Jeremy Soule. The towns are alive with people going about their daily chores; however, I have to admit that I found The Witcher II to be much better in this aspect. Nevertheless, paying attention to what NPCs have to say has its own rewards. Not only can you get lore and valuable information and even quests but you can even gain skill improvements out of this. Care has been taken to create a great number of NPC phrases in order to avoid having to endure the same phrase repeated over and over. Well, although not very pronounced, after some hours of gameplay this has not been avoided entirely. A minor annoyance. I can understand how town talk is much harder to run through the Creation Engine than items and quests. THERE IS STEAM COMING OUT OF YOUR ARMOR Recently we have all seen how bad a Digital Distribution system can be ([coughs!] ORIGIN!) so STEAM may seem pretty benign to some by now. Nevertheless, let's not loose perspective. This is still an OnLine DRM scheme. I usually deduct a full star from any game that withholds ownership of our games by tying it to a unique online account. So far I had made a single exception, with Shogun II. I decided SKYRIM to be the second. I still have to warn the gamers who are careful what DRM schemes they will allow to their computers since the game does require STEAM to run (yes, even the retail version). An informed decision can now be made. However, I could not bring myself to give this masterpiece anything less than a perfect score. SKYRIM is a game that will draw you in its world, enchant you with its beauty, mesmerize you with its endless horizons, offer you a huge number of ever branching quests and, yet, leave you wanting for more. Each time you play it is unique and the paths not taken will keep bringing you back again and again. Even if they are uphill and narrow. HIGHLY RECOMMENDED!\", \"After logging over 200 hours on this game, sadly, I had to ask myself what was I doing with my life. What was I creating by sitting at my computer disconnected from family, friends and social events. Having conversations with NPC's and accomplishing fictitious goals is ultimately less rewarding than the real thing. This is a great game however and if you long to disconnect from reality, sacrifice any kind of a social life, then I highly recommend it.\", \"I've had nothing but problems since I installed this game. Being forced to play it over the internet slows it down terribly. Honestly, it's the worst idea I've seen in years.\", \"I really haven't had a chance to evaluate or even install the Skyrim software. To install the software required an account with the Steam online service. There was a problem setting up the Steam account. I emailed them to try to fix the problem. It took STEAM a week to ten days to even get back to me. After that lengthy delay by Steam I decided it was not worth the aggravation to try to set up the software. If Amazon is going to depend on other software vendors you really be sure they do their job in a timely and reliable manner. Phillida Hutcheson a disappointed customer.\", 'I loved Skyrim, but I HATE Steam. Those people don\\'t know what customer service is. I loaded it all, registered, etc. Everything was fine for a few hours of play, and then it simply froze up. I had to re-boot the computer, and then \"Steam\" wouldn\\'t re-start. I tried all my considerable computer tricks to no avail, so I opened a trouble ticket - three different times and was never able to re-open or re-install Steam or use my Skyrim DVD again. I returned it for a refund. what good is a game if you can\\'t play it? It seems there is no option - you can only access Skyrim through Steam and they suck. Very disgruntled about it. I was so looking forward to playing Skyrim.']\n",
        "['1', '1', '1', '0', '0', '0']\n"
       ]
      }
     ],
     "prompt_number": 2
    },
    {
     "cell_type": "markdown",
     "metadata": {},
     "source": [
      "#Pre-processing Data"
     ]
    },
    {
     "cell_type": "code",
     "collapsed": false,
     "input": [
      "processed = []\n",
      "for item in text:\n",
      "    divided = item.split()\n",
      "    new = [0,0,0,0,0,0,0,0,0,0,0,0,0,0,0,0,0,0,0,0]\n",
      "    for x in divided:\n",
      "        if x == 'bad':\n",
      "            new[0] = 1\n",
      "        elif x == 'sucks':\n",
      "            new[1] = 1\n",
      "        elif x == 'boring':\n",
      "            new[2] = 1\n",
      "        elif x == 'terrible':\n",
      "            new[3] = 1\n",
      "        elif x == 'horrible':\n",
      "            new[4] = 1\n",
      "        elif x == 'disappointing':\n",
      "            new[5] = 1\n",
      "        elif x == 'hack-n-slash':\n",
      "            new[6] = 1\n",
      "        elif x == 'buggy':\n",
      "            new[7] = 1\n",
      "        elif x == 'repetitive':\n",
      "            new[8] = 1\n",
      "        elif x == 'glitchy':\n",
      "            new[9] = 1\n",
      "        elif x == 'overrarted':\n",
      "            new[10] = 1\n",
      "        elif x == 'great':\n",
      "            new[11] = 1\n",
      "        elif x == 'greatest':\n",
      "            new[12] = 1\n",
      "        elif x == 'good':\n",
      "            new[13] = 1\n",
      "        elif x == 'best':\n",
      "            new[14] = 1\n",
      "        elif x == 'fun':\n",
      "            new[15] = 1\n",
      "        elif x == 'beautiful':\n",
      "            new[16] = 1\n",
      "        elif x == 'epic':\n",
      "            new[17] = 1\n",
      "        elif x == 'immersive':\n",
      "            new[18] = 1\n",
      "        elif x == 'addictive':\n",
      "            new[19] = 1\n",
      "    processed.append(new)\n",
      "    \n",
      "print(processed)"
     ],
     "language": "python",
     "metadata": {},
     "outputs": [
      {
       "output_type": "stream",
       "stream": "stdout",
       "text": [
        "[[1, 0, 0, 0, 0, 0, 0, 0, 0, 0, 0, 0, 0, 0, 0, 0, 0, 0, 0, 0], [1, 0, 0, 0, 0, 0, 0, 0, 0, 0, 0, 1, 0, 0, 0, 0, 1, 1, 0, 0], [0, 0, 0, 0, 0, 0, 0, 0, 0, 0, 0, 1, 0, 0, 0, 0, 0, 0, 0, 0], [0, 0, 0, 0, 0, 0, 0, 0, 0, 0, 0, 0, 0, 0, 0, 0, 0, 0, 0, 0], [0, 0, 0, 0, 0, 0, 0, 0, 0, 0, 0, 0, 0, 0, 0, 0, 0, 0, 0, 0], [0, 0, 0, 0, 0, 0, 0, 0, 0, 0, 0, 0, 0, 1, 0, 0, 0, 0, 0, 0]]\n"
       ]
      }
     ],
     "prompt_number": 3
    },
    {
     "cell_type": "heading",
     "level": 1,
     "metadata": {},
     "source": [
      "Getting Sample Data"
     ]
    },
    {
     "cell_type": "code",
     "collapsed": false,
     "input": [
      "X = [[0,0,0,0,0,0,0,0,0,0,0,1,0,0,0,0,0,0,0,0],\n",
      "     [0,0,0,0,0,0,0,0,0,0,0,0,0,0,0,0,1,0,1,0],\n",
      "     [0,0,0,0,0,0,0,0,0,0,0,0,1,0,0,1,1,0,0,1],\n",
      "     [1,0,0,0,0,0,0,0,0,0,0,0,0,1,0,1,0,1,0,0],\n",
      "     [0,0,0,0,0,0,1,0,0,0,0,1,0,0,0,0,0,0,0,1],\n",
      "     [0,0,0,0,0,0,0,0,0,0,0,0,1,0,0,0,0,0,0,0],\n",
      "     [0,0,0,0,0,0,0,0,0,0,0,0,0,1,0,0,0,1,0,0],\n",
      "     [0,0,0,0,0,0,0,0,0,0,0,1,0,0,0,1,0,0,0,0],\n",
      "     [0,0,0,0,0,0,0,0,0,0,0,0,0,0,0,0,1,0,0,0],\n",
      "     [0,0,0,0,0,0,0,0,0,0,0,0,0,0,0,0,0,0,0,1],\n",
      "     [0,0,0,0,0,0,0,0,0,0,0,0,0,0,0,0,0,1,0,0],\n",
      "     [0,0,0,0,0,0,0,0,0,0,0,0,0,0,0,0,0,0,0,0],\n",
      "     [0,0,0,0,0,0,0,0,0,0,0,0,0,0,0,0,0,0,1,0],\n",
      "     [0,0,0,0,0,0,0,0,1,0,0,1,0,0,0,0,0,0,0,1],\n",
      "     [0,0,0,0,0,1,0,0,0,0,0,0,0,1,1,1,0,0,0,0],\n",
      "     [1,0,0,0,0,0,0,0,0,0,0,0,0,0,0,0,0,0,0,0],\n",
      "     [0,1,1,0,0,0,0,0,0,0,0,0,0,0,0,0,0,0,0,0],\n",
      "     [0,0,0,0,0,0,1,1,0,1,0,0,0,0,0,0,0,0,0,0],\n",
      "     [0,0,0,0,1,0,0,0,0,0,0,0,0,0,0,0,0,0,0,0],\n",
      "     [0,0,0,0,0,0,0,0,1,0,1,0,0,0,1,0,0,0,0,0],\n",
      "     [1,1,1,0,0,0,0,0,0,0,0,0,0,0,0,0,0,0,0,0],\n",
      "     [0,0,0,0,0,0,1,0,0,0,0,1,0,0,0,0,0,0,0,0],\n",
      "     [0,0,0,0,0,0,1,1,0,1,0,1,0,0,0,1,0,0,0,0],\n",
      "     [0,0,0,0,0,1,0,0,0,0,0,0,1,0,0,0,0,0,0,0],\n",
      "     [0,1,0,0,0,0,0,0,0,0,0,0,0,0,0,0,0,0,0,0],\n",
      "     [0,0,0,0,0,0,0,0,0,0,0,0,0,0,0,0,0,0,0,0],\n",
      "     [1,0,0,0,0,0,0,0,0,0,0,0,0,0,0,0,0,0,0,0],\n",
      "     [0,0,0,1,1,1,0,0,0,0,0,0,0,0,0,0,0,0,0,0],\n",
      "     [1,1,1,1,1,0,0,0,0,0,0,0,0,0,0,0,0,0,0,0],\n",
      "     [0,0,0,0,0,1,1,0,1,1,1,0,0,0,0,0,0,0,0,0]]\n",
      "     \n",
      "y = [1,1,1,1,1,1,1,1,1,1,1,1,1,1,1,0,0,0,0,0,0,0,0,0,0,0,0,0,0,0]\n",
      "\n"
     ],
     "language": "python",
     "metadata": {},
     "outputs": [],
     "prompt_number": 4
    },
    {
     "cell_type": "code",
     "collapsed": false,
     "input": [
      "X.shape()"
     ],
     "language": "python",
     "metadata": {},
     "outputs": [
      {
       "ename": "AttributeError",
       "evalue": "'list' object has no attribute 'shape'",
       "output_type": "pyerr",
       "traceback": [
        "\u001b[0;31m---------------------------------------------------------------------------\u001b[0m\n\u001b[0;31mAttributeError\u001b[0m                            Traceback (most recent call last)",
        "\u001b[0;32m<ipython-input-5-16ae0aed09f7>\u001b[0m in \u001b[0;36m<module>\u001b[0;34m()\u001b[0m\n\u001b[0;32m----> 1\u001b[0;31m \u001b[0mX\u001b[0m\u001b[0;34m.\u001b[0m\u001b[0mshape\u001b[0m\u001b[0;34m(\u001b[0m\u001b[0;34m)\u001b[0m\u001b[0;34m\u001b[0m\u001b[0m\n\u001b[0m",
        "\u001b[0;31mAttributeError\u001b[0m: 'list' object has no attribute 'shape'"
       ]
      }
     ],
     "prompt_number": 5
    },
    {
     "cell_type": "heading",
     "level": 1,
     "metadata": {},
     "source": [
      "Training With SVC"
     ]
    },
    {
     "cell_type": "code",
     "collapsed": false,
     "input": [
      "clf = svm.SVC(C=1.0,)\n",
      "print clf\n"
     ],
     "language": "python",
     "metadata": {},
     "outputs": []
    },
    {
     "cell_type": "code",
     "collapsed": true,
     "input": [],
     "language": "python",
     "metadata": {},
     "outputs": []
    }
   ],
   "metadata": {}
  }
 ]
}