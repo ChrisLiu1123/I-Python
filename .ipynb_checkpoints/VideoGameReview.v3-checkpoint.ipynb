{
 "metadata": {
  "kernelspec": {
   "display_name": "Python 2",
   "language": "python",
   "name": "python2"
  },
  "language_info": {
   "codemirror_mode": {
    "name": "ipython",
    "version": 2
   },
   "file_extension": ".py",
   "mimetype": "text/x-python",
   "name": "python",
   "nbconvert_exporter": "python",
   "pygments_lexer": "ipython2",
   "version": "2.7.10"
  },
  "name": ""
 },
 "nbformat": 3,
 "nbformat_minor": 0,
 "worksheets": [
  {
   "cells": [
    {
     "cell_type": "heading",
     "level": 1,
     "metadata": {},
     "source": [
      "Importing Modules"
     ]
    },
    {
     "cell_type": "code",
     "collapsed": false,
     "input": [
      "from sklearn import svm\n",
      "import numpy as np\n",
      "import math\n",
      "import matplotlib.pyplot as plt\n",
      "%matplotlib inline"
     ],
     "language": "python",
     "metadata": {},
     "outputs": [],
     "prompt_number": 11
    },
    {
     "cell_type": "heading",
     "level": 2,
     "metadata": {},
     "source": [
      "Importing raw data from .csv"
     ]
    },
    {
     "cell_type": "code",
     "collapsed": false,
     "input": [
      "import csv\n",
      "o = open('Video_Game_Review_Pipeline_Data.csv', 'rU')\n",
      "mydata = csv.reader(o)\n",
      "\n",
      "text = []\n",
      "rating = []\n",
      "for row in mydata:\n",
      "    text.append(row[0])\n",
      "    rating.append(row[1])\n",
      "    "
     ],
     "language": "python",
     "metadata": {},
     "outputs": [],
     "prompt_number": 12
    },
    {
     "cell_type": "markdown",
     "metadata": {},
     "source": [
      "#Pre-processing Data"
     ]
    },
    {
     "cell_type": "code",
     "collapsed": false,
     "input": [
      "processed = []\n",
      "for item in text:\n",
      "    divided = item.split()\n",
      "    processed.append(divided)\n",
      "for Item in processed:\n",
      "    new = [0,0,0,0,0,0,0,0,0,0,0,0,0,0,0,0,0,0,0,0,0]\n",
      "    for x in Item:\n",
      "        if x == 'bad'or x == 'Bad' or x == 'bad.':\n",
      "            new[0] = 1\n",
      "        elif x == 'sucks' or x == 'sucks.':\n",
      "            new[1] = 1\n",
      "        elif x == 'boring' or x == 'boring.' or x == 'boring,':\n",
      "            new[2] = 1\n",
      "        elif x == 'terrible' or x == 'terrible,' or x =='terrible.':\n",
      "            new[3] = 1\n",
      "        elif x == 'horrible' or x == 'horrible,' or x =='horrible.':\n",
      "            new[4] = 1\n",
      "        elif x == 'disappointing' or x == 'dissapointing,' or x == 'dissapointing.':\n",
      "            new[5] = 1\n",
      "        elif x == 'hack-n-slash' or x == 'hack-n-slash,':\n",
      "            new[6] = 1\n",
      "        elif x == 'buggy' or x == 'buggy,' or x == 'buggy.':\n",
      "            new[7] = 1\n",
      "        elif x == 'repetitive' or x == 'repetitive,' or x == 'repetitive.':\n",
      "            new[8] = 1\n",
      "        elif x == 'glitchy' or x == 'glitchy,' or x == 'glitchy.':\n",
      "            new[9] = 1\n",
      "        elif x == 'overrarted' or x == 'overrated,' or x == 'overrated.':\n",
      "            new[10] = 1\n",
      "        elif x == 'great' or x == 'great.':\n",
      "            new[11] = 1\n",
      "        elif x == 'greatest' or x == 'Greatest' or x == 'greatest!':\n",
      "            new[12] = 1\n",
      "        elif x == 'good' or x == 'good.':\n",
      "            new[13] = 1\n",
      "        elif x == 'best' or x == 'best.':\n",
      "            new[14] = 1\n",
      "        elif x == 'fun' or x == 'fun,' or x == 'fun.':\n",
      "            new[15] = 1\n",
      "        elif x == 'beautiful' or x == 'beautiful,' or x == 'beautiful':\n",
      "            new[16] = 1\n",
      "        elif x == 'epic' or x == 'epic,' or x == 'epic.' or x == 'Epic':\n",
      "            new[17] = 1\n",
      "        elif x == 'immersive' or x == 'immersion' or x == 'immersive,' or x == 'immersive.':\n",
      "            new[18] = 1\n",
      "        elif x == 'addictive' or x == 'addictive,' or x == 'addictive.':\n",
      "            new[19] = 1\n",
      "        elif x == 'not' or x == 'Not':\n",
      "            new[20] = 1\n",
      "    processed[processed.index(Item)] = new\n",
      "    \n",
      "print(processed)\n",
      "\n",
      "rprocessed = []\n",
      "for rate in rating:\n",
      "    rprocessed.append(int(rate))\n",
      "\n",
      "print(rprocessed)"
     ],
     "language": "python",
     "metadata": {},
     "outputs": [
      {
       "output_type": "stream",
       "stream": "stdout",
       "text": [
        "[[1, 0, 0, 0, 0, 0, 0, 0, 0, 0, 0, 0, 0, 1, 0, 0, 0, 0, 0, 0, 1], [1, 0, 0, 0, 0, 0, 0, 0, 0, 0, 0, 1, 0, 0, 0, 0, 1, 1, 0, 0, 1], [0, 0, 0, 0, 0, 0, 0, 0, 0, 0, 0, 1, 0, 0, 0, 0, 0, 0, 0, 0, 0], [0, 0, 0, 0, 0, 0, 0, 0, 0, 0, 0, 0, 0, 0, 0, 0, 0, 0, 0, 0, 0], [0, 0, 0, 0, 0, 0, 0, 0, 0, 0, 0, 0, 0, 0, 0, 0, 0, 0, 0, 0, 1], [0, 0, 0, 0, 0, 0, 0, 0, 0, 0, 0, 0, 0, 1, 0, 0, 0, 0, 0, 0, 0]]\n",
        "[1, 1, 1, 0, 0, 0]\n"
       ]
      }
     ],
     "prompt_number": 13
    },
    {
     "cell_type": "heading",
     "level": 1,
     "metadata": {},
     "source": [
      "Getting Sample Data"
     ]
    },
    {
     "cell_type": "code",
     "collapsed": false,
     "input": [
      "X = [[0,0,0,0,0,0,0,0,0,0,0,1,0,0,0,0,0,0,0,0],\n",
      "     [0,0,0,0,0,0,0,0,0,0,0,0,0,0,0,0,1,0,1,0],\n",
      "     [0,0,0,0,0,0,0,0,0,0,0,0,1,0,0,1,1,0,0,1],\n",
      "     [1,0,0,0,0,0,0,0,0,0,0,0,0,1,0,1,0,1,0,0],\n",
      "     [0,0,0,0,0,0,1,0,0,0,0,1,0,0,0,0,0,0,0,1],\n",
      "     [0,0,0,0,0,0,0,0,0,0,0,0,1,0,0,0,0,0,0,0],\n",
      "     [0,0,0,0,0,0,0,0,0,0,0,0,0,1,0,0,0,1,0,0],\n",
      "     [0,0,0,0,0,0,0,0,0,0,0,1,0,0,0,1,0,0,0,0],\n",
      "     [0,0,0,0,0,0,0,0,0,0,0,0,0,0,0,0,1,0,0,0],\n",
      "     [0,0,0,0,0,0,0,0,0,0,0,0,0,0,0,0,0,0,0,1],\n",
      "     [0,0,0,0,0,0,0,0,0,0,0,0,0,0,0,0,0,1,0,0],\n",
      "     [0,0,0,0,0,0,0,0,0,0,0,0,0,0,0,0,0,0,0,0],\n",
      "     [0,0,0,0,0,0,0,0,0,0,0,0,0,0,0,0,0,0,1,0],\n",
      "     [0,0,0,0,0,0,0,0,1,0,0,1,0,0,0,0,0,0,0,1],\n",
      "     [0,0,0,0,0,1,0,0,0,0,0,0,0,1,1,1,0,0,0,0],\n",
      "     [1,0,0,0,0,0,0,0,0,0,0,0,0,0,0,0,0,0,0,0],\n",
      "     [0,1,1,0,0,0,0,0,0,0,0,0,0,0,0,0,0,0,0,0],\n",
      "     [0,0,0,0,0,0,1,1,0,1,0,0,0,0,0,0,0,0,0,0],\n",
      "     [0,0,0,0,1,0,0,0,0,0,0,0,0,0,0,0,0,0,0,0],\n",
      "     [0,0,0,0,0,0,0,0,1,0,1,0,0,0,1,0,0,0,0,0],\n",
      "     [1,1,1,0,0,0,0,0,0,0,0,0,0,0,0,0,0,0,0,0],\n",
      "     [0,0,0,0,0,0,1,0,0,0,0,1,0,0,0,0,0,0,0,0],\n",
      "     [0,0,0,0,0,0,1,1,0,1,0,1,0,0,0,1,0,0,0,0],\n",
      "     [0,0,0,0,0,1,0,0,0,0,0,0,1,0,0,0,0,0,0,0],\n",
      "     [0,1,0,0,0,0,0,0,0,0,0,0,0,0,0,0,0,0,0,0],\n",
      "     [0,0,0,0,0,0,0,0,0,0,0,0,0,0,0,0,0,0,0,0],\n",
      "     [1,0,0,0,0,0,0,0,0,0,0,0,0,0,0,0,0,0,0,0],\n",
      "     [0,0,0,1,1,1,0,0,0,0,0,0,0,0,0,0,0,0,0,0],\n",
      "     [1,1,1,1,1,0,0,0,0,0,0,0,0,0,0,0,0,0,0,0],\n",
      "     [0,0,0,0,0,1,1,0,1,1,1,0,0,0,0,0,0,0,0,0]]\n",
      "     \n",
      "y = [1,1,1,1,1,1,1,1,1,1,1,1,1,1,1,0,0,0,0,0,0,0,0,0,0,0,0,0,0,0]\n",
      "\n"
     ],
     "language": "python",
     "metadata": {},
     "outputs": [],
     "prompt_number": 14
    },
    {
     "cell_type": "code",
     "collapsed": false,
     "input": [
      "X.shape()"
     ],
     "language": "python",
     "metadata": {},
     "outputs": [
      {
       "ename": "AttributeError",
       "evalue": "'list' object has no attribute 'shape'",
       "output_type": "pyerr",
       "traceback": [
        "\u001b[0;31m---------------------------------------------------------------------------\u001b[0m\n\u001b[0;31mAttributeError\u001b[0m                            Traceback (most recent call last)",
        "\u001b[0;32m<ipython-input-15-16ae0aed09f7>\u001b[0m in \u001b[0;36m<module>\u001b[0;34m()\u001b[0m\n\u001b[0;32m----> 1\u001b[0;31m \u001b[0mX\u001b[0m\u001b[0;34m.\u001b[0m\u001b[0mshape\u001b[0m\u001b[0;34m(\u001b[0m\u001b[0;34m)\u001b[0m\u001b[0;34m\u001b[0m\u001b[0m\n\u001b[0m",
        "\u001b[0;31mAttributeError\u001b[0m: 'list' object has no attribute 'shape'"
       ]
      }
     ],
     "prompt_number": 15
    },
    {
     "cell_type": "heading",
     "level": 1,
     "metadata": {},
     "source": [
      "Training With SVC"
     ]
    },
    {
     "cell_type": "code",
     "collapsed": false,
     "input": [
      "clf = svm.SVC(C=1.0,)\n",
      "print clf\n"
     ],
     "language": "python",
     "metadata": {},
     "outputs": []
    },
    {
     "cell_type": "code",
     "collapsed": true,
     "input": [],
     "language": "python",
     "metadata": {},
     "outputs": []
    }
   ],
   "metadata": {}
  }
 ]
}