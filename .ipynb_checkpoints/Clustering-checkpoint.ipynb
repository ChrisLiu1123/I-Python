{
 "metadata": {
  "name": ""
 },
 "nbformat": 3,
 "nbformat_minor": 0,
 "worksheets": [
  {
   "cells": [
    {
     "cell_type": "markdown",
     "metadata": {},
     "source": [
      "#Clustering"
     ]
    },
    {
     "cell_type": "markdown",
     "metadata": {},
     "source": [
      "##Importing Modules"
     ]
    },
    {
     "cell_type": "code",
     "collapsed": false,
     "input": [
      "from sklearn import cluster\n",
      "import numpy as np\n",
      "import math\n",
      "import matplotlib.pyplot as plt\n",
      "%matplotlib inline"
     ],
     "language": "python",
     "metadata": {},
     "outputs": [],
     "prompt_number": 48
    },
    {
     "cell_type": "markdown",
     "metadata": {},
     "source": [
      "##Importing Data"
     ]
    },
    {
     "cell_type": "code",
     "collapsed": false,
     "input": [
      "import csv\n",
      "o = open('Splatoon_Scores.csv', 'rU')\n",
      "mydata = csv.reader(o)\n",
      "\n",
      "data = []\n",
      "for row in mydata:\n",
      "    new = []\n",
      "    new.append(row[0])\n",
      "    new.append(row[1])\n",
      "    data.append(new)\n",
      "    \n",
      "print(data)"
     ],
     "language": "python",
     "metadata": {},
     "outputs": [
      {
       "output_type": "stream",
       "stream": "stdout",
       "text": [
        "[['7', '8.4'], ['1', '3.4'], ['3', '5.91'], ['0', '2'], ['2', '7'], ['0', '1.12'], ['1', '3.24'], ['6', '11.12'], ['11', '13'], ['7', '7.89'], ['0', '7.8'], ['4', '5.7'], ['9', '8.9'], ['10', '9'], ['8', '8.74'], ['4', '5.7'], ['3', '10'], ['2', '4.3'], ['1', '3.7'], ['5', '6.8'], ['5', '6.78'], ['4', '7.9'], ['3', '9'], ['1', '5.1'], ['0', '4.5'], ['0', '3.3'], ['1', '6.3'], ['4', '8.9'], ['5', '9.65'], ['3', '5.43'], ['7', '9.45'], ['2', '8.98'], ['1', '7.89'], ['0', '5.56'], ['6', '7.8'], ['9', '10.12']]\n"
       ]
      }
     ],
     "prompt_number": 49
    },
    {
     "cell_type": "markdown",
     "metadata": {},
     "source": [
      "##Pre-processing Data"
     ]
    },
    {
     "cell_type": "code",
     "collapsed": false,
     "input": [
      "for item in data:\n",
      "    for x in item:\n",
      "        item[item.index(x)] = float(x)\n",
      "        \n",
      "print(data)"
     ],
     "language": "python",
     "metadata": {},
     "outputs": [
      {
       "output_type": "stream",
       "stream": "stdout",
       "text": [
        "[[7.0, 8.4], [1.0, 3.4], [3.0, 5.91], [0.0, 2.0], [2.0, 7.0], [0.0, 1.12], [1.0, 3.24], [6.0, 11.12], [11.0, 13.0], [7.0, 7.89], [0.0, 7.8], [4.0, 5.7], [9.0, 8.9], [10.0, 9.0], [8.0, 8.74], [4.0, 5.7], [3.0, 10.0], [2.0, 4.3], [1.0, 3.7], [5.0, 6.8], [5.0, 6.78], [4.0, 7.9], [3.0, 9.0], [1.0, 5.1], [0.0, 4.5], [0.0, 3.3], [1.0, 6.3], [4.0, 8.9], [5.0, 9.65], [3.0, 5.43], [7.0, 9.45], [2.0, 8.98], [1.0, 7.89], [0.0, 5.56], [6.0, 7.8], [9.0, 10.12]]\n"
       ]
      }
     ],
     "prompt_number": 50
    },
    {
     "cell_type": "markdown",
     "metadata": {},
     "source": [
      "##Graph of Points"
     ]
    },
    {
     "cell_type": "code",
     "collapsed": false,
     "input": [
      "X = []\n",
      "Y =[]\n",
      "for j in data:\n",
      "    X.append(j[0])\n",
      "    Y.append(j[1])\n",
      "plt.plot(X,Y,'ro')\n",
      "plt.axis([0,15,0,15])\n",
      "plt.show()"
     ],
     "language": "python",
     "metadata": {},
     "outputs": [
      {
       "metadata": {},
       "output_type": "display_data",
       "png": "[encoded data removed]",
       "text": [
        "<matplotlib.figure.Figure at 0x7f3dba314d90>"
       ]
      }
     ],
     "prompt_number": 51
    },
    {
     "cell_type": "markdown",
     "metadata": {},
     "source": [
      "##Setting up K-means Clustering"
     ]
    },
    {
     "cell_type": "code",
     "collapsed": false,
     "input": [
      "anarray = np.array(data)\n",
      "group = cluster.KMeans(3,'k-means++',10,300,0.0001,'auto',0,None,True,1)\n",
      "group.fit(anarray,None)"
     ],
     "language": "python",
     "metadata": {},
     "outputs": [
      {
       "metadata": {},
       "output_type": "pyout",
       "prompt_number": 52,
       "text": [
        "KMeans(copy_x=True, init='k-means++', max_iter=300, n_clusters=3, n_init=10,\n",
        "    n_jobs=1, precompute_distances='auto', random_state=None, tol=0.0001,\n",
        "    verbose=0)"
       ]
      }
     ],
     "prompt_number": 52
    },
    {
     "cell_type": "markdown",
     "metadata": {},
     "source": [
      "##Testing K-means"
     ]
    },
    {
     "cell_type": "code",
     "collapsed": false,
     "input": [
      "user = [7.0,890]\n",
      "for i in user:\n",
      "    user[user.index(i)] = float(i)\n",
      "user[1] = user[1]/100\n",
      "user = np.array(user)\n",
      "prediction = group.predict(user)\n",
      "print(prediction)\n",
      "print(type(prediction))\n",
      "print(group.cluster_centers_)\n",
      "print(group.labels_)"
     ],
     "language": "python",
     "metadata": {},
     "outputs": [
      {
       "output_type": "stream",
       "stream": "stdout",
       "text": [
        "[0]\n",
        "<type 'numpy.ndarray'>\n",
        "[[ 7.72727273  9.46090909]\n",
        " [ 2.93333333  7.33933333]\n",
        " [ 0.6         3.622     ]]\n",
        "[0 2 1 2 1 2 2 0 0 0 1 1 0 0 0 1 1 2 2 1 1 1 1 2 2 2 1 1 0 1 0 1 1 2 0 0]\n"
       ]
      }
     ],
     "prompt_number": 53
    },
    {
     "cell_type": "markdown",
     "metadata": {},
     "source": [
      "##Adding Colors"
     ]
    },
    {
     "cell_type": "code",
     "collapsed": false,
     "input": [
      "for thing in data:\n",
      "    new = np.array(thing)\n",
      "    x  = group.predict(new)\n",
      "    if x == np.array([1]):\n",
      "        color = 'ro'\n",
      "    elif x == np.array([0]):\n",
      "        color = 'bo'\n",
      "    else:\n",
      "        color = 'go'    \n",
      "    plt.plot(thing[0],thing[1],color)\n",
      "plt.show()"
     ],
     "language": "python",
     "metadata": {},
     "outputs": [
      {
       "metadata": {},
       "output_type": "display_data",
       "png": "[encoded data removed]",
       "text": [
        "<matplotlib.figure.Figure at 0x7f3dba1298d0>"
       ]
      }
     ],
     "prompt_number": 54
    },
    {
     "cell_type": "markdown",
     "metadata": {},
     "source": [
      "##Classification of User"
     ]
    },
    {
     "cell_type": "code",
     "collapsed": false,
     "input": [
      "Centroids = list(group.cluster_centers_)\n",
      "cen = []\n",
      "for l in Centroids:\n",
      "    cen.append(list(l))\n",
      "def dis(alist):\n",
      "    d = math.sqrt(alist[0]**2 + alist[1]**2)\n",
      "    return(d)\n",
      "dict = {}\n",
      "if dis(cen[0]) > dis(cen[1]) > dis(cen[2]):\n",
      "    dict[0] = 'expert'\n",
      "    dict[1] = 'intermediate'\n",
      "    dict[2] = 'beginner'\n",
      "elif dis(cen[1]) > dis(cen[0]) > dis(cen[2]):\n",
      "    dict[0] = 'intermediate'\n",
      "    dict[1] = 'expert'\n",
      "    dict[2] = 'beginner'\n",
      "elif dis(cen[0]) > dis(cen[2]) > dis(cen[1]):\n",
      "    dict[0] = 'expert'\n",
      "    dict[1] = 'beginner'\n",
      "    dict[2] = 'intermediate'\n",
      "elif dis(cen[1]) > dis(cen[2]) > dis(cen[0]):\n",
      "    dict[0] = 'beginner'\n",
      "    dict[1] = 'expert'\n",
      "    dict[2] = 'intermediate'\n",
      "elif dis(cen[2]) > dis(cen[0]) > dis(cen[1]):\n",
      "    dict[0] = 'intermediate'\n",
      "    dict[1] = 'beginner'\n",
      "    dict[2] = 'expert'\n",
      "else:\n",
      "    dict[0] = 'beginner'\n",
      "    dict[1] = 'intermediate'\n",
      "    dict[2] = 'expert'\n",
      "    \n",
      "theuser = [2.0,1.0]\n",
      "the_user = np.array(theuser)\n",
      "score = group.predict(the_user)\n",
      "score = list(score)\n",
      "print(dict[score[0]])"
     ],
     "language": "python",
     "metadata": {},
     "outputs": [
      {
       "output_type": "stream",
       "stream": "stdout",
       "text": [
        "beginner\n"
       ]
      }
     ],
     "prompt_number": 55
    },
    {
     "cell_type": "markdown",
     "metadata": {},
     "source": [
      "##Plotting the User\n",
      "\n"
     ]
    },
    {
     "cell_type": "code",
     "collapsed": false,
     "input": [
      "for thing in data:\n",
      "    new = np.array(thing)\n",
      "    x  = group.predict(new)\n",
      "    if x == np.array([1]):\n",
      "        color = 'ro'\n",
      "    elif x == np.array([0]):\n",
      "        color = 'bo'\n",
      "    else:\n",
      "        color = 'go'    \n",
      "    plt.plot(thing[0],thing[1],color)\n",
      "\n",
      "plt.plot(theuser[0],theuser[1],'ko')    \n",
      "\n",
      "plt.show()"
     ],
     "language": "python",
     "metadata": {},
     "outputs": [
      {
       "metadata": {},
       "output_type": "display_data",
       "png": "[encoded data removed]",
       "text": [
        "<matplotlib.figure.Figure at 0x7f3dba316090>"
       ]
      }
     ],
     "prompt_number": 59
    },
    {
     "cell_type": "code",
     "collapsed": false,
     "input": [],
     "language": "python",
     "metadata": {},
     "outputs": []
    }
   ],
   "metadata": {}
  }
 ]
}