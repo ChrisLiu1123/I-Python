{
 "metadata": {
  "name": ""
 },
 "nbformat": 3,
 "nbformat_minor": 0,
 "worksheets": [
  {
   "cells": [
    {
     "cell_type": "markdown",
     "metadata": {},
     "source": [
      "Optimization Objective\n",
      "\n",
      "Suport Vector Machine:\n",
      "\n",
      "$$ C = \\frac{1}{\\lambda} $$\n",
      "\n",
      "$$ min\\theta, C\\sum_{i=1}^m\\Big[y^{(i)}cost_1(\\theta^Tx^{(i)})+(1-y^{(i)}cost_0(\\theta^Tx^{(i)})\\Big]+\\frac{1}{2}\\sum_{j=1}^n\\theta^2_j$$\n",
      "\n",
      "Hypothesis:\n",
      "\n",
      "$ h_\\theta(x) = 1 $ if $ \\theta^Tx \\geq 0 $\n",
      "\n",
      "Otherwise $ h_\\theta(x) = 0 $"
     ]
    },
    {
     "cell_type": "markdown",
     "metadata": {},
     "source": [
      "Kernels\n",
      "\n",
      "Similarity:\n",
      "\n",
      "$$ f_1 = exp\\Bigg(-\\frac{\\sum_{j=1}^n(x_j-l_j^{(1)})^2}{2\\sigma^2}\\Bigg) $$\n",
      "\n",
      "Support Vector machine with Kernels\n",
      "\n",
      "$$ min\\theta, C\\sum_{i=1}^m\\Big[y^{(i)}cost_1(\\theta^Tf^{(i)})+(1-y^{(i)}cost_0(\\theta^Tf^{(i)})\\Big]+\\frac{1}{2}\\sum_{j=1}m\\theta^2_j $$"
     ]
    },
    {
     "cell_type": "code",
     "collapsed": false,
     "input": [],
     "language": "python",
     "metadata": {},
     "outputs": []
    }
   ],
   "metadata": {}
  }
 ]
}