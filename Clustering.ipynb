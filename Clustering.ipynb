{
 "metadata": {
  "name": "",
  "signature": "sha256:7918bc119faab0f68354e2146b3e97d2854e15d0148227990bb684a36cade1dd"
 },
 "nbformat": 3,
 "nbformat_minor": 0,
 "worksheets": [
  {
   "cells": [
    {
     "cell_type": "markdown",
     "metadata": {},
     "source": [
      "#Clustering"
     ]
    },
    {
     "cell_type": "markdown",
     "metadata": {},
     "source": [
      "##Importing Modules"
     ]
    },
    {
     "cell_type": "code",
     "collapsed": false,
     "input": [
      "from sklearn import cluster\n",
      "import numpy as np\n",
      "import math\n",
      "import matplotlib.pyplot as plt\n",
      "%matplotlib inline"
     ],
     "language": "python",
     "metadata": {},
     "outputs": [],
     "prompt_number": 37
    },
    {
     "cell_type": "markdown",
     "metadata": {},
     "source": [
      "##Importing Data"
     ]
    },
    {
     "cell_type": "code",
     "collapsed": false,
     "input": [
      "import csv\n",
      "o = open('Splatoon_Scores2.csv', 'rU')\n",
      "mydata = csv.reader(o)\n",
      "\n",
      "data = []\n",
      "for row in mydata:\n",
      "    new = []\n",
      "    new.append(row[0])\n",
      "    new.append(row[1])\n",
      "    data.append(new)\n"
     ],
     "language": "python",
     "metadata": {},
     "outputs": [],
     "prompt_number": 38
    },
    {
     "cell_type": "markdown",
     "metadata": {},
     "source": [
      "##Pre-processing Data"
     ]
    },
    {
     "cell_type": "code",
     "collapsed": false,
     "input": [
      "for item in data:\n",
      "    for x in item:\n",
      "        item[item.index(x)] = float(x)"
     ],
     "language": "python",
     "metadata": {},
     "outputs": [],
     "prompt_number": 39
    },
    {
     "cell_type": "markdown",
     "metadata": {},
     "source": [
      "##Graph of Points"
     ]
    },
    {
     "cell_type": "code",
     "collapsed": false,
     "input": [
      "X = []\n",
      "Y =[]\n",
      "for j in data:\n",
      "    X.append(j[0])\n",
      "    Y.append(j[1])\n",
      "plt.plot(X,Y,'ro')\n",
      "plt.axis([0,15,0,15])\n",
      "plt.xlabel('Number of Kills')\n",
      "plt.ylabel('Area Covered (in Hundreds)')\n",
      "plt.title('Splatoon Graph of Player Performance')\n",
      "plt.show()"
     ],
     "language": "python",
     "metadata": {},
     "outputs": [
      {
       "metadata": {},
       "output_type": "display_data",
       "png": "[encoded data removed]",
       "text": [
        "<matplotlib.figure.Figure at 0x107cf0610>"
       ]
      }
     ],
     "prompt_number": 40
    },
    {
     "cell_type": "markdown",
     "metadata": {},
     "source": [
      "##Setting up K-means Clustering"
     ]
    },
    {
     "cell_type": "code",
     "collapsed": false,
     "input": [
      "anarray = np.array(data)\n",
      "group = cluster.KMeans(3,'k-means++',10,300,0.0001,'auto',0,None,True,1)\n",
      "group.fit(anarray,None)"
     ],
     "language": "python",
     "metadata": {},
     "outputs": [
      {
       "metadata": {},
       "output_type": "pyout",
       "prompt_number": 41,
       "text": [
        "KMeans(copy_x=True, init='k-means++', max_iter=300, n_clusters=3, n_init=10,\n",
        "    n_jobs=1, precompute_distances='auto', random_state=None, tol=0.0001,\n",
        "    verbose=0)"
       ]
      }
     ],
     "prompt_number": 41
    },
    {
     "cell_type": "markdown",
     "metadata": {},
     "source": [
      "##Testing K-means"
     ]
    },
    {
     "cell_type": "code",
     "collapsed": false,
     "input": [
      "user = [7.0,890]\n",
      "for i in user:\n",
      "    user[user.index(i)] = float(i)\n",
      "user[1] = user[1]/100\n",
      "user = np.array(user)\n",
      "prediction = group.predict(user)\n",
      "print(prediction)"
     ],
     "language": "python",
     "metadata": {},
     "outputs": [
      {
       "output_type": "stream",
       "stream": "stdout",
       "text": [
        "[1]\n"
       ]
      }
     ],
     "prompt_number": 42
    },
    {
     "cell_type": "markdown",
     "metadata": {},
     "source": [
      "##Adding Colors"
     ]
    },
    {
     "cell_type": "code",
     "collapsed": false,
     "input": [
      "import matplotlib.cm as cm\n",
      "colors = cm.rainbow(np.linspace(0, 1, 5))\n",
      "\n",
      "for thing in data:\n",
      "    new = np.array(thing)\n",
      "    x  = group.predict(new)\n",
      "    plt.scatter(thing[0],thing[1],color=colors[x])\n",
      "    \n",
      "plt.xlabel('Number of Kills')\n",
      "plt.ylabel('Area Covered (in Hundreds)')\n",
      "plt.title('Splatoon Graph of Player Performance')\n",
      "plt.show()"
     ],
     "language": "python",
     "metadata": {},
     "outputs": [
      {
       "output_type": "stream",
       "stream": "stdout",
       "text": [
        "[[7.0, 8.4], [1.0, 3.4], [3.0, 5.91], [0.0, 2.0], [2.0, 7.0], [0.0, 1.12], [1.0, 3.24], [6.0, 11.12], [11.0, 13.0], [7.0, 7.89], [0.0, 7.8], [4.0, 5.7], [9.0, 8.9], [10.0, 9.0], [8.0, 8.74], [4.0, 5.7], [3.0, 10.0], [2.0, 4.3], [1.0, 3.7], [5.0, 6.8], [5.0, 6.78], [4.0, 7.9], [3.0, 9.0], [1.0, 5.1], [0.0, 4.5], [0.0, 3.3], [1.0, 6.3], [4.0, 8.9], [5.0, 9.65], [3.0, 5.43], [7.0, 9.45], [2.0, 8.98], [1.0, 7.89], [0.0, 5.56], [6.0, 7.8], [9.0, 10.12], [3.0, 12.1], [1.0, 10.34], [0.0, 8.0], [7.0, 8.54], [2.0, 9.23], [1.0, 9.56], [5.0, 6.59], [4.0, 5.68], [3.0, 4.93], [2.0, 6.52], [0.0, 3.76], [1.0, 5.75], [8.0, 9.0], [7.0, 10.46], [2.0, 5.78], [2.0, 6.94], [1.0, 3.86], [2.0, 6.9], [0.0, 6.0], [1.0, 4.79], [1.0, 5.01], [2.0, 4.58], [2.0, 5.55], [4.0, 6.94], [3.0, 6.21], [2.0, 5.39], [1.0, 4.44], [9.0, 9.34]]\n"
       ]
      },
      {
       "metadata": {},
       "output_type": "display_data",
       "png": "[encoded data removed]",
       "text": [
        "<matplotlib.figure.Figure at 0x107f3b2d0>"
       ]
      }
     ],
     "prompt_number": 47
    },
    {
     "cell_type": "code",
     "collapsed": false,
     "input": [
      "#a = np.array([0, 0, 4, 5, 0])\n",
      "#np.nonzero(a)\n",
      "\n",
      "print np.array([2])"
     ],
     "language": "python",
     "metadata": {},
     "outputs": []
    },
    {
     "cell_type": "code",
     "collapsed": false,
     "input": [
      "import matplotlib.cm as cm\n",
      "colors = cm.rainbow(np.linspace(0, 1, len(centroids[0])))\n",
      "for centroid_0, centroid_1, Color in zip(centroids[0], centroids[1], colors):\n",
      "    plt.scatter(centroid_0, centroid_1, color=Color, marker='x', s = 200)"
     ],
     "language": "python",
     "metadata": {},
     "outputs": []
    },
    {
     "cell_type": "markdown",
     "metadata": {},
     "source": [
      "##Classification of User"
     ]
    },
    {
     "cell_type": "code",
     "collapsed": false,
     "input": [
      "Centroids = list(group.cluster_centers_)\n",
      "cen = []\n",
      "for l in Centroids:\n",
      "    cen.append(list(l))\n",
      "def dis(alist):\n",
      "    d = math.sqrt(alist[0]**2 + alist[1]**2)\n",
      "    return(d)\n",
      "dict = {}\n",
      "if dis(cen[0]) > dis(cen[1]) > dis(cen[2]):\n",
      "    dict[0] = 'Expert'\n",
      "    dict[1] = 'Intermediate'\n",
      "    dict[2] = 'Beginner'\n",
      "elif dis(cen[1]) > dis(cen[0]) > dis(cen[2]):\n",
      "    dict[0] = 'Intermediate'\n",
      "    dict[1] = 'Expert'\n",
      "    dict[2] = 'Beginner'\n",
      "elif dis(cen[0]) > dis(cen[2]) > dis(cen[1]):\n",
      "    dict[0] = 'Expert'\n",
      "    dict[1] = 'Beginner'\n",
      "    dict[2] = 'Intermediate'\n",
      "elif dis(cen[1]) > dis(cen[2]) > dis(cen[0]):\n",
      "    dict[0] = 'Beginner'\n",
      "    dict[1] = 'Expert'\n",
      "    dict[2] = 'Intermediate'\n",
      "elif dis(cen[2]) > dis(cen[0]) > dis(cen[1]):\n",
      "    dict[0] = 'Intermediate'\n",
      "    dict[1] = 'Beginner'\n",
      "    dict[2] = 'Expert'\n",
      "else:\n",
      "    dict[0] = 'Beginner'\n",
      "    dict[1] = 'Intermediate'\n",
      "    dict[2] = 'Expert'\n",
      "    \n",
      "theuser = [2.0,800]\n",
      "theuser[1] = theuser[1]/100.0\n",
      "the_user = np.array(theuser)\n",
      "score = group.predict(the_user)\n",
      "score = list(score)\n",
      "print(dict[score[0]])"
     ],
     "language": "python",
     "metadata": {},
     "outputs": []
    },
    {
     "cell_type": "markdown",
     "metadata": {},
     "source": [
      "##Plotting the User\n",
      "\n"
     ]
    },
    {
     "cell_type": "code",
     "collapsed": false,
     "input": [
      "for thing in data:\n",
      "    new = np.array(thing)\n",
      "    x  = group.predict(new)\n",
      "    if x == np.array([1]):\n",
      "        color = 'ro'\n",
      "    elif x == np.array([0]):\n",
      "        color = 'bo'\n",
      "    else:\n",
      "        color = 'go'    \n",
      "    plt.plot(thing[0],thing[1],color)\n",
      "\n",
      "plt.plot(theuser[0],theuser[1],'k^') \n",
      "\n",
      "plt.xlabel('Number of Kills')\n",
      "plt.ylabel('Area Covered (in Hundreds)')\n",
      "plt.title('Splatoon Graph of Player Performance')\n",
      "\n",
      "plt.show()"
     ],
     "language": "python",
     "metadata": {},
     "outputs": []
    },
    {
     "cell_type": "code",
     "collapsed": false,
     "input": [],
     "language": "python",
     "metadata": {},
     "outputs": []
    }
   ],
   "metadata": {}
  }
 ]
}