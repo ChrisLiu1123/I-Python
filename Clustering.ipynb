{
 "metadata": {
  "name": ""
 },
 "nbformat": 3,
 "nbformat_minor": 0,
 "worksheets": [
  {
   "cells": [
    {
     "cell_type": "markdown",
     "metadata": {},
     "source": [
      "#Clustering"
     ]
    },
    {
     "cell_type": "markdown",
     "metadata": {},
     "source": [
      "##Importing Modules"
     ]
    },
    {
     "cell_type": "code",
     "collapsed": false,
     "input": [
      "from sklearn import cluster\n",
      "import numpy as np\n",
      "import math\n",
      "import matplotlib.pyplot as plt\n",
      "%matplotlib inline"
     ],
     "language": "python",
     "metadata": {},
     "outputs": [],
     "prompt_number": 3
    },
    {
     "cell_type": "markdown",
     "metadata": {},
     "source": [
      "##Importing Data"
     ]
    },
    {
     "cell_type": "code",
     "collapsed": false,
     "input": [
      "import csv\n",
      "o = open('Splatoon_Scores2.csv', 'rU')\n",
      "mydata = csv.reader(o)\n",
      "\n",
      "data = []\n",
      "for row in mydata:\n",
      "    new = []\n",
      "    new.append(row[0])\n",
      "    new.append(row[1])\n",
      "    data.append(new)\n"
     ],
     "language": "python",
     "metadata": {},
     "outputs": [],
     "prompt_number": 4
    },
    {
     "cell_type": "markdown",
     "metadata": {},
     "source": [
      "##Pre-processing Data"
     ]
    },
    {
     "cell_type": "code",
     "collapsed": false,
     "input": [
      "for item in data:\n",
      "    for x in item:\n",
      "        item[item.index(x)] = float(x)"
     ],
     "language": "python",
     "metadata": {},
     "outputs": [],
     "prompt_number": 5
    },
    {
     "cell_type": "markdown",
     "metadata": {},
     "source": [
      "##Graph of Points"
     ]
    },
    {
     "cell_type": "code",
     "collapsed": false,
     "input": [
      "X = []\n",
      "Y =[]\n",
      "for j in data:\n",
      "    X.append(j[0])\n",
      "    Y.append(j[1])\n",
      "plt.plot(X,Y,'ro')\n",
      "plt.axis([0,15,0,15])\n",
      "plt.xlabel('Number of Kills')\n",
      "plt.ylabel('Area Covered (in Hundreds)')\n",
      "plt.title('Splatoon Graph of Player Performance')\n",
      "plt.show()"
     ],
     "language": "python",
     "metadata": {},
     "outputs": [
      {
       "metadata": {},
       "output_type": "display_data",
       "png": "[encoded data removed]",
       "text": [
        "<matplotlib.figure.Figure at 0x7fb9782ef990>"
       ]
      }
     ],
     "prompt_number": 6
    },
    {
     "cell_type": "markdown",
     "metadata": {},
     "source": [
      "##Setting up K-means Clustering"
     ]
    },
    {
     "cell_type": "code",
     "collapsed": false,
     "input": [
      "anarray = np.array(data)\n",
      "group = cluster.KMeans(3,'k-means++',10,300,0.0001,'auto',0,None,True,1)\n",
      "group.fit(anarray,None)"
     ],
     "language": "python",
     "metadata": {},
     "outputs": [
      {
       "metadata": {},
       "output_type": "pyout",
       "prompt_number": 7,
       "text": [
        "KMeans(copy_x=True, init='k-means++', max_iter=300, n_clusters=3, n_init=10,\n",
        "    n_jobs=1, precompute_distances='auto', random_state=None, tol=0.0001,\n",
        "    verbose=0)"
       ]
      }
     ],
     "prompt_number": 7
    },
    {
     "cell_type": "markdown",
     "metadata": {},
     "source": [
      "##Testing K-means"
     ]
    },
    {
     "cell_type": "code",
     "collapsed": false,
     "input": [
      "user = [7.0,890]\n",
      "for i in user:\n",
      "    user[user.index(i)] = float(i)\n",
      "user[1] = user[1]/100\n",
      "user = np.array(user)\n",
      "prediction = group.predict(user)\n",
      "print(prediction)"
     ],
     "language": "python",
     "metadata": {},
     "outputs": [
      {
       "output_type": "stream",
       "stream": "stdout",
       "text": [
        "[0]\n"
       ]
      }
     ],
     "prompt_number": 8
    },
    {
     "cell_type": "markdown",
     "metadata": {},
     "source": [
      "##Adding Colors"
     ]
    },
    {
     "cell_type": "code",
     "collapsed": false,
     "input": [
      "for thing in data:\n",
      "    new = np.array(thing)\n",
      "    x  = group.predict(new)\n",
      "    if x == np.array([1]):\n",
      "        color = 'ro'\n",
      "    elif x == np.array([0]):\n",
      "        color = 'bo'\n",
      "    else:\n",
      "        color = 'go'    \n",
      "    plt.plot(thing[0],thing[1],color)\n",
      "plt.xlabel('Number of Kills')\n",
      "plt.ylabel('Area Covered (in Hundreds)')\n",
      "plt.title('Splatoon Graph of Player Performance')\n",
      "plt.show()"
     ],
     "language": "python",
     "metadata": {},
     "outputs": [
      {
       "metadata": {},
       "output_type": "display_data",
       "png": "[encoded data removed]",
       "text": [
        "<matplotlib.figure.Figure at 0x7fb9782439d0>"
       ]
      }
     ],
     "prompt_number": 9
    },
    {
     "cell_type": "markdown",
     "metadata": {},
     "source": [
      "##Classification of User"
     ]
    },
    {
     "cell_type": "code",
     "collapsed": false,
     "input": [
      "Centroids = list(group.cluster_centers_)\n",
      "cen = []\n",
      "for l in Centroids:\n",
      "    cen.append(list(l))\n",
      "def dis(alist):\n",
      "    d = math.sqrt(alist[0]**2 + alist[1]**2)\n",
      "    return(d)\n",
      "dict = {}\n",
      "if dis(cen[0]) > dis(cen[1]) > dis(cen[2]):\n",
      "    dict[0] = 'Expert'\n",
      "    dict[1] = 'Intermediate'\n",
      "    dict[2] = 'Beginner'\n",
      "elif dis(cen[1]) > dis(cen[0]) > dis(cen[2]):\n",
      "    dict[0] = 'Intermediate'\n",
      "    dict[1] = 'Expert'\n",
      "    dict[2] = 'Beginner'\n",
      "elif dis(cen[0]) > dis(cen[2]) > dis(cen[1]):\n",
      "    dict[0] = 'Expert'\n",
      "    dict[1] = 'Beginner'\n",
      "    dict[2] = 'Intermediate'\n",
      "elif dis(cen[1]) > dis(cen[2]) > dis(cen[0]):\n",
      "    dict[0] = 'Beginner'\n",
      "    dict[1] = 'Expert'\n",
      "    dict[2] = 'Intermediate'\n",
      "elif dis(cen[2]) > dis(cen[0]) > dis(cen[1]):\n",
      "    dict[0] = 'Intermediate'\n",
      "    dict[1] = 'Beginner'\n",
      "    dict[2] = 'Expert'\n",
      "else:\n",
      "    dict[0] = 'Beginner'\n",
      "    dict[1] = 'Intermediate'\n",
      "    dict[2] = 'Expert'\n",
      "    \n",
      "theuser = [2.0,800]\n",
      "theuser[1] = theuser[1]/100.0\n",
      "the_user = np.array(theuser)\n",
      "score = group.predict(the_user)\n",
      "score = list(score)\n",
      "print(dict[score[0]])"
     ],
     "language": "python",
     "metadata": {},
     "outputs": [
      {
       "output_type": "stream",
       "stream": "stdout",
       "text": [
        "Intermediate\n"
       ]
      }
     ],
     "prompt_number": 10
    },
    {
     "cell_type": "markdown",
     "metadata": {},
     "source": [
      "##Plotting the User\n",
      "\n"
     ]
    },
    {
     "cell_type": "code",
     "collapsed": false,
     "input": [
      "for thing in data:\n",
      "    new = np.array(thing)\n",
      "    x  = group.predict(new)\n",
      "    if x == np.array([1]):\n",
      "        color = 'ro'\n",
      "    elif x == np.array([0]):\n",
      "        color = 'bo'\n",
      "    else:\n",
      "        color = 'go'    \n",
      "    plt.plot(thing[0],thing[1],color)\n",
      "\n",
      "plt.plot(theuser[0],theuser[1],'k^') \n",
      "\n",
      "plt.xlabel('Number of Kills')\n",
      "plt.ylabel('Area Covered (in Hundreds)')\n",
      "plt.title('Splatoon Graph of Player Performance')\n",
      "\n",
      "plt.show()"
     ],
     "language": "python",
     "metadata": {},
     "outputs": [
      {
       "metadata": {},
       "output_type": "display_data",
       "png": "[encoded data removed]",
       "text": [
        "<matplotlib.figure.Figure at 0x7fb9782b8d10>"
       ]
      }
     ],
     "prompt_number": 11
    },
    {
     "cell_type": "code",
     "collapsed": false,
     "input": [],
     "language": "python",
     "metadata": {},
     "outputs": [],
     "prompt_number": 11
    }
   ],
   "metadata": {}
  }
 ]
}