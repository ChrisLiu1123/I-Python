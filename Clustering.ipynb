{
 "metadata": {
  "name": ""
 },
 "nbformat": 3,
 "nbformat_minor": 0,
 "worksheets": [
  {
   "cells": [
    {
     "cell_type": "markdown",
     "metadata": {},
     "source": [
      "#Clustering"
     ]
    },
    {
     "cell_type": "markdown",
     "metadata": {},
     "source": [
      "##Importing Modules"
     ]
    },
    {
     "cell_type": "code",
     "collapsed": false,
     "input": [
      "from sklearn import cluster\n",
      "import numpy as np\n",
      "import math\n",
      "import matplotlib.pyplot as plt\n",
      "%matplotlib inline"
     ],
     "language": "python",
     "metadata": {},
     "outputs": [],
     "prompt_number": 16
    },
    {
     "cell_type": "markdown",
     "metadata": {},
     "source": [
      "##Importing Data"
     ]
    },
    {
     "cell_type": "code",
     "collapsed": false,
     "input": [
      "import csv\n",
      "o = open('Splatoon_Scores.csv', 'rU')\n",
      "mydata = csv.reader(o)\n",
      "\n",
      "data = []\n",
      "for row in mydata:\n",
      "    new = []\n",
      "    new.append(row[0])\n",
      "    new.append(row[1])\n",
      "    data.append(new)\n",
      "    \n",
      "print(data)"
     ],
     "language": "python",
     "metadata": {},
     "outputs": [
      {
       "output_type": "stream",
       "stream": "stdout",
       "text": [
        "[['7', '8.4'], ['1', '3.4'], ['3', '5.91'], ['0', '2'], ['2', '7'], ['0', '1.12'], ['1', '3.24'], ['6', '11.12'], ['11', '13'], ['7', '7.89'], ['0', '7.8'], ['4', '5.7'], ['9', '8.9'], ['10', '9'], ['8', '8.74'], ['4', '5.7'], ['3', '10'], ['2', '4.3'], ['1', '3.7'], ['5', '6.8'], ['5', '6.78'], ['4', '7.9'], ['3', '9'], ['1', '5.1'], ['0', '4.5'], ['0', '3.3'], ['1', '6.3'], ['4', '8.9'], ['5', '9.65'], ['3', '5.43'], ['7', '9.45'], ['2', '8.98'], ['1', '7.89'], ['0', '5.56'], ['6', '7.8'], ['9', '10.12']]\n"
       ]
      }
     ],
     "prompt_number": 17
    },
    {
     "cell_type": "markdown",
     "metadata": {},
     "source": [
      "##Pre-processing Data"
     ]
    },
    {
     "cell_type": "code",
     "collapsed": false,
     "input": [
      "for item in data:\n",
      "    for x in item:\n",
      "        item[item.index(x)] = float(x)\n",
      "        \n",
      "print(data)\n",
      "data = np.array(data)"
     ],
     "language": "python",
     "metadata": {},
     "outputs": [
      {
       "output_type": "stream",
       "stream": "stdout",
       "text": [
        "[[7.0, 8.4], [1.0, 3.4], [3.0, 5.91], [0.0, 2.0], [2.0, 7.0], [0.0, 1.12], [1.0, 3.24], [6.0, 11.12], [11.0, 13.0], [7.0, 7.89], [0.0, 7.8], [4.0, 5.7], [9.0, 8.9], [10.0, 9.0], [8.0, 8.74], [4.0, 5.7], [3.0, 10.0], [2.0, 4.3], [1.0, 3.7], [5.0, 6.8], [5.0, 6.78], [4.0, 7.9], [3.0, 9.0], [1.0, 5.1], [0.0, 4.5], [0.0, 3.3], [1.0, 6.3], [4.0, 8.9], [5.0, 9.65], [3.0, 5.43], [7.0, 9.45], [2.0, 8.98], [1.0, 7.89], [0.0, 5.56], [6.0, 7.8], [9.0, 10.12]]\n"
       ]
      }
     ],
     "prompt_number": 18
    },
    {
     "cell_type": "markdown",
     "metadata": {},
     "source": [
      "##Setting up K-means Clustering"
     ]
    },
    {
     "cell_type": "code",
     "collapsed": false,
     "input": [
      "group = cluster.KMeans(3,'k-means++',10,300,0.0001,'auto',0,None,True,1)\n",
      "group.fit(data,None)"
     ],
     "language": "python",
     "metadata": {},
     "outputs": [
      {
       "metadata": {},
       "output_type": "pyout",
       "prompt_number": 20,
       "text": [
        "KMeans(copy_x=True, init='k-means++', max_iter=300, n_clusters=3, n_init=10,\n",
        "    n_jobs=1, precompute_distances='auto', random_state=None, tol=0.0001,\n",
        "    verbose=0)"
       ]
      }
     ],
     "prompt_number": 20
    },
    {
     "cell_type": "markdown",
     "metadata": {},
     "source": [
      "##Graphing Clusters"
     ]
    },
    {
     "cell_type": "code",
     "collapsed": false,
     "input": [],
     "language": "python",
     "metadata": {},
     "outputs": [],
     "prompt_number": 20
    },
    {
     "cell_type": "markdown",
     "metadata": {},
     "source": [
      "##Testing K-means"
     ]
    },
    {
     "cell_type": "code",
     "collapsed": false,
     "input": [],
     "language": "python",
     "metadata": {},
     "outputs": []
    }
   ],
   "metadata": {}
  }
 ]
}