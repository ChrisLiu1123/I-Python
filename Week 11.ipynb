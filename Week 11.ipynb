{
 "metadata": {
  "name": ""
 },
 "nbformat": 3,
 "nbformat_minor": 0,
 "worksheets": [
  {
   "cells": [
    {
     "cell_type": "markdown",
     "metadata": {},
     "source": [
      "# Problem Description and Pipeline\n",
      "\n",
      "Photo OCR\n",
      "\n",
      "Photo Optical Character Recognition\n",
      "\n",
      "Get computers to understand concept of images\n",
      "\n",
      "Read text in regions\n",
      "\n",
      "e.x. Car Navigation and Assistance\n",
      "\n",
      "1. Text Detection\n",
      "2. Character Segmentation\n",
      "3. Character Classification\n",
      "\n",
      "Pipeline (Stages that separate a process into machine learning):\n",
      "\n",
      "1. Image\n",
      "2. Text Detection\n",
      "3. Character Segmentation\n",
      "4. Character Recognition\n",
      "\n"
     ]
    },
    {
     "cell_type": "markdown",
     "metadata": {},
     "source": [
      "# Sliding Windows\n",
      "\n",
      "Supervised learning for pedestrian detection:\n",
      "\n",
      "Separaties the image into multiple frames\n",
      "\n",
      "Vary the image patches in the classification machine\n",
      "\n",
      "Differentiate  between frames that have pedestrians or not\n",
      "\n",
      "Classification problem\n",
      "\n",
      "Expansion Operator = Expands the \"True\" Samples in the Image\n",
      "\n",
      "Then use 1D sliding window to classify frames"
     ]
    },
    {
     "cell_type": "markdown",
     "metadata": {},
     "source": [
      "# Getting Lots of Data and Artificial Data\n",
      "\n",
      "Use different font to train your algorithm\n",
      "\n",
      "Change background and color\n",
      "\n",
      "Introduce artificial warpings of data\n",
      "\n",
      "Distortions should reprent what could be in the test set\n",
      "\n",
      "Does not help to add meaningless samples\n",
      "\n",
      "Make sure you have a low bias classifier before obtaining more data\n",
      "\n",
      "How much work will it take to get more data\n",
      "\n",
      "Collect data and label it manually\n",
      "\n",
      "Crowd sourcing = hire people to label data"
     ]
    },
    {
     "cell_type": "markdown",
     "metadata": {},
     "source": [
      "# Ceiling Analysis\n",
      "\n",
      "What should you spend most of your time working on?\n",
      "\n",
      "Determine what would happen with 100% accuracy from the previous step\n",
      "\n",
      "Depending on percent changes, decide what to work on\n",
      "\n",
      "Facial recognition:\n",
      "\n",
      "1. Camera Image\n",
      "2. Preprocess\n",
      "3. Face Detection\n",
      "4. Segmentation\n",
      "5. Logistic Regression\n",
      "6. Label\n",
      "\n"
     ]
    },
    {
     "cell_type": "code",
     "collapsed": false,
     "input": [],
     "language": "python",
     "metadata": {},
     "outputs": []
    }
   ],
   "metadata": {}
  }
 ]
}