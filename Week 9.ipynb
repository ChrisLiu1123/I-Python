{
 "metadata": {
  "name": "",
  "signature": "sha256:e2845f05eaa4f2735ab1cd6c9e20e14e8209fc28aad34738fc671a04bbcafeec"
 },
 "nbformat": 3,
 "nbformat_minor": 0,
 "worksheets": [
  {
   "cells": [
    {
     "cell_type": "code",
     "collapsed": false,
     "input": [
      "import math\n",
      "import matplotlib.pyplot as plt\n",
      "import numpy as np\n",
      "%matplotlib inline"
     ],
     "language": "python",
     "metadata": {},
     "outputs": []
    },
    {
     "cell_type": "markdown",
     "metadata": {},
     "source": [
      "## Anomaly Detection\n",
      "\n",
      "Determines if tested object has anomalies\n",
      "\n",
      "Anomaly is an outlier of the tested data\n",
      "\n",
      "$x_{test}$ is the tested data\n",
      "\n",
      "Model p(x) determines probability\n",
      "\n",
      "$p(x_{test}) < \\epsilon$ is anomalous\n",
      "\n",
      "$p(x_{test}) \\geq \\epsilon$ is not anomalous\n",
      "\n",
      "\n"
     ]
    },
    {
     "cell_type": "markdown",
     "metadata": {},
     "source": [
      "## Guassian Distribution\n",
      "\n",
      "$x$~$N(\\mu,{\\sigma}^2)$\n",
      "\n",
      "$$x\\in{R}$$\n",
      "\n",
      "$$p(x;\\mu,{\\sigma}^2) = \\frac{1}{\\sqrt{2 \\pi} \\sigma}\n",
      "e^{-\\frac{(x-\\mu)^2}{2 \\sigma^2}}$$\n",
      "\n",
      "$\\sigma$ is the standard deviation\n",
      "\n",
      "$\\mu$ is the center of the distribution\n",
      "\n",
      "Gaussian distribution = standard distribution\n",
      "\n",
      "$$ x^{(i)} \\in{R}$$\n",
      "\n",
      "$\\mu$ of data set is the average (mean) of the $\\mu$'s\n",
      "\n",
      "$$ \\sigma^2 = \\frac{1}{m} \\sum_{i=1}^m \\Big( x^{(i)} - \\mu \\Big)^2$$\n",
      "\n"
     ]
    },
    {
     "cell_type": "markdown",
     "metadata": {},
     "source": [
      "Anomaly Detection Algorithm\n",
      "\n",
      "Density Estimation:\n",
      "\n",
      "$$x\\in{R}$$\n",
      "\n",
      "$ p(x) = p(x_1;\\mu_1,\\sigma^2_1) $ ... $ + p(x_n;\\mu_n,\\sigma^2_n) $\n",
      "\n",
      "$$\\prod_{j=1}^n p(x_j;\\mu_j,\\sigma^2_j)$$\n",
      "\n",
      "Anomaly Detection:\n",
      "\n",
      "$$ p(x) = \\prod_{j=1}^n p(x_j;\\mu_j,\\sigma^2_j) = \\prod_{j=1}^n \\frac{1}{\\sqrt{2 \\pi} \\sigma_j} e^{-\\frac{(x_j-\\mu_j)^2}{2 \\sigma^2_j}}$$\n",
      "\n",
      "x's represent different values"
     ]
    },
    {
     "cell_type": "markdown",
     "metadata": {},
     "source": [
      "Developing and Evaluating Anomaly Detection System\n",
      "\n",
      "1.Assume data is labeled\n",
      "\n",
      "2.Training set\n",
      "\n",
      "3.Cross Validation set\n",
      "\n",
      "4.Test set\n",
      "\n",
      "Classification accuracy is not valid due to the skewed data\n",
      "\n",
      "Evaluation metrics:\n",
      "\n",
      "-True positive, false positive, false negative, true negative\n",
      "\n",
      "-Precision/Recall\n",
      "\n",
      "-$F_1$ -score"
     ]
    },
    {
     "cell_type": "markdown",
     "metadata": {},
     "source": [
      "Anomaly Detection (AD) vs. Supervised Learning (SL\n",
      "\n",
      "AD- Very small number of positive examples\n",
      "\n",
      "AD- Large number of negative examples\n",
      "\n",
      "SL- Large number of positive and negative examples\n",
      "\n",
      "AD- Many types of anomalies\n",
      "\n",
      "SL- Enough positive examples to get a sense what positive examples are like\n",
      "\n",
      "AD- Fraud Detection, Manufacturing, Monitoring Machines\n",
      "\n",
      "SL- Email Spam, Weather Prediction, Cancer Classification\n"
     ]
    },
    {
     "cell_type": "markdown",
     "metadata": {},
     "source": [
      "Choosing What Features to Use\n",
      "\n",
      "Transform the data to make the data Gaussian:\n",
      "\n",
      "1. log(x)\n",
      "\n",
      "2. log(x+c)\n",
      "\n",
      "3. $\\sqrt{x}$\n",
      "\n",
      "4. x^c\n",
      "\n",
      "Error Analysis\n",
      "\n",
      "p(x) large for normal examples\n",
      "\n",
      "p(x) small for anomalous examples\n",
      "\n",
      "problem: p(x) is comparable for normal and anomalous\n",
      "\n",
      "\n"
     ]
    },
    {
     "cell_type": "markdown",
     "metadata": {},
     "source": [
      "Multivariable Gaussian Distribution\n",
      "\n",
      "$$ x\\in{R^n} $$\n",
      "$$ \\mu\\in{R^n} $$\n",
      "$$ \\Sigma\\in{R^{n^2}} $$\n",
      "\n",
      "$$ p(x;\\mu,\\Sigma) = \\frac{1}{(2\\pi)^{\\frac{n}{2}} |\\Sigma|^{\\frac{1}{2}}} e^{-\\frac{1}{2} (x-\\mu)^T \\Sigma^{-1} (x-\\mu)}$$\n",
      "\n",
      "Manipulating the covariance matrix changes the base of the graph"
     ]
    },
    {
     "cell_type": "markdown",
     "metadata": {},
     "source": [
      "Anomaly Detection with Multivariable\n",
      "\n",
      "$\\mu$ is the average (mean) of the training set values.\n",
      "\n",
      "$$ \\Sigma = \\frac{1}{m} \\sum_{i=1}^m(x^{(i)}-\\mu)(x^{(i)}-\\mu)^T$$\n",
      "\n",
      "Original Model (OS) vs. Multivariable Gaussian (MG)\n",
      "\n",
      "OS- Manually create features to capture anomalies\n",
      "\n",
      "MG- Automatically captures correlations between features\n",
      "\n",
      "OS- Computationally cheaper\n",
      "\n",
      "MG- Computationally more expensive\n",
      "\n",
      "OS- Okay is training set is small\n",
      "\n",
      "MG- m > n to work"
     ]
    },
    {
     "cell_type": "markdown",
     "metadata": {},
     "source": [
      "Problem Formulation\n",
      "\n",
      "Recommender Systems\n",
      "\n",
      "ex- predicting movie ratings\n",
      "\n",
      "Based off of ratings from user, predict ideal selections"
     ]
    },
    {
     "cell_type": "markdown",
     "metadata": {},
     "source": [
      "Content-based Recommendations\n",
      "\n",
      "Feature vectors: $ x^{(i)} $\n",
      "\n",
      "n = number of features\n",
      "\n",
      "For user j, predict the rating for movie i\n",
      "\n",
      "$$ \\theta^{(j)}\\in{R^3} $$\n",
      "\n",
      "$$ (\\theta^{(j)})^T x^{(i)} $$\n",
      "\n",
      "To learn $\\theta^{(j)}$:\n",
      "\n",
      "$$ \\min{\\theta^{(j)}} \\frac{1}{2 m^{(j)}} \\sum_{i:r(i,j)=1} \\Big((\\theta^{(j)})^T (x^{(i)})-y^{(i,j)}\\Big)^2+\\frac{\\lambda}{2 m^{(j)}} \\sum_{k=1}^n(\\theta^{(j)}_k)^2$$\n",
      "\n",
      "Optimization:\n",
      "\n",
      "$$ \\min{\\theta^{(0)}...\\theta^{(n_u)}} \\frac{1}{2} \\sum_{j=1}^{n_u} \\sum_{i:r(i,j)=1} \\Big((\\theta^{(j)})^T (x^{(i)})-y^{(i,j)}\\Big)^2+\\frac{\\lambda}{2}\\sum_{j=1}^{n_u} \\sum_{k=1}^n(\\theta^{(j)}_k)^2$$\n",
      "\n",
      "Gradient Descent:\n",
      "\n",
      "$$ k=0, \\theta^{(j)}_k := \\theta^{(j)}_k-\\alpha\\sum_{i:r(i,j)=1} \\Big((\\theta^{(j)})^T (x^{(i)})-y^{(i,j)}\\Big) x^{(i)}_k $$\n",
      "\n",
      "Otherwise,\n",
      "\n",
      "$$ \\theta^{(j)}_k := \\theta^{(j)}_k-\\alpha\\Bigg(\\sum_{i:r(i,j)=1}\\Big((\\theta^{(j)})^T (x^{(i)})-y^{(i,j)}\\Big) x^{(i)}_k+\\lambda\\theta^{(j)}_k\\Bigg) $$"
     ]
    },
    {
     "cell_type": "markdown",
     "metadata": {},
     "source": [
      "Collaborative Filtering\n",
      "\n",
      "Infer values of movies based on user tastes\n",
      "\n",
      "$$ \\min{x^{(0)}...x^{(n_m)}} \\frac{1}{2} \\sum_{i=1}^{n_m} \\sum_{i:r(i,j)=1} \\Big((\\theta^{(j)})^T (x^{(i)})-y^{(i,j)}\\Big)^2+\\frac{\\lambda}{2}\\sum_{i=1}^{n_m} \\sum_{k=1}^n(x^{(i)}_k)^2$$\n",
      "\n",
      "Simultaneously compute $\\theta$ and x"
     ]
    },
    {
     "cell_type": "markdown",
     "metadata": {},
     "source": [
      "Collaborative Filtering Algorithm\n",
      "\n",
      "Cost Function:\n",
      "\n",
      "$$ J(x^{(1)}...x^{(n_m)},\\theta^{(1)}...\\theta^{(n_u)})=\\frac{1}{2}\\sum_{(i,j):r(i,j)=1}\\Big((\\theta^{(j)})^T (x^{(i)})-y^{(i,j)}\\Big)^2+\\frac{\\lambda}{2}\\sum_{i=1}^{n_m} \\sum_{k=1}^n(x^{(i)}_k)^2+\\frac{\\lambda}{2}\\sum_{j=1}^{n_u} \\sum_{k=1}^n(\\theta^{(j)}_k)^2$$\n",
      "\n",
      "No need to set a feature to 1\n",
      "\n",
      "Gradient descent for x:\n",
      "\n",
      "$$ x^{(i)}_k := x^{(i)}_k-\\alpha\\Bigg(\\sum_{j:r(i,j)=1}\\Big((\\theta^{(j)})^T (x^{(i)})-y^{(i,j)}\\Big) x^{(i)}_k+\\lambda x^{(i)}_k\\Bigg) $$"
     ]
    },
    {
     "cell_type": "markdown",
     "metadata": {},
     "source": [
      "Vectorization: Low Rank Matrix Factorization\n",
      "\n",
      "X is equal to the tranpose data for each x movie\n",
      "\n",
      "$\\Theta$ is equal to the transpose data for each $\\theta$ person\n",
      "\n",
      "Take the magnitude of two movies to determine similarity"
     ]
    },
    {
     "cell_type": "markdown",
     "metadata": {},
     "source": [
      "Implementational detail: Mean Normalization\n",
      "\n",
      "Adding another user to a problem\n",
      "\n",
      "Assume the parameters are zero if there is no data since the cost function minimizes the values; however, this is a very poor prediction.\n",
      "\n",
      "Mean Normalization:\n",
      "\n",
      "1. Store the averages of the movies into a matrix\n",
      "\n",
      "2. Subtract each rating in the original matrix by the identified average\n",
      "\n",
      "3. add $\\mu_i$ to the final prediction"
     ]
    },
    {
     "cell_type": "code",
     "collapsed": false,
     "input": [],
     "language": "python",
     "metadata": {},
     "outputs": []
    }
   ],
   "metadata": {}
  }
 ]
}