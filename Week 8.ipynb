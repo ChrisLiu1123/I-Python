{
 "metadata": {
  "name": ""
 },
 "nbformat": 3,
 "nbformat_minor": 0,
 "worksheets": [
  {
   "cells": [
    {
     "cell_type": "markdown",
     "metadata": {},
     "source": [
      "Unsupervised Learning\n",
      "\n",
      "K-means Algorithm:\n",
      "\n",
      "$$ x^{(i)}\\in{R^n} $$\n",
      "\n",
      "More explanation\n",
      "\n",
      "Clustering:\n",
      "\n",
      "$ c^{(i)} $ = index of cluster\n",
      "\n",
      "$ \\mu_k $ = cluster centroid\n",
      "\n",
      "Cost Function:\n",
      "\n",
      "$$ J(c^{(1)},...,c^{(m)},\\mu_1,...,\\mu_K) = \\frac{1}{m}\\sum_{i=1}^m||x^{(i)}-\\mu_{c^{(i)}}||^2 $$"
     ]
    },
    {
     "cell_type": "markdown",
     "metadata": {},
     "source": [
      "Random Initialization\n",
      "\n",
      "Dimensionality Reduction\n",
      "\n",
      "Principal Component Analysis\n",
      "\n",
      "Covariance Matric:\n",
      "\n",
      "$$ \\Sigma = \\frac{1}{m}(x^{(i)})(x^{(i)})^T $$\n",
      "\n",
      "$$ \\frac{\\frac{1}{m}\\sum_{i=1}^m||x^{(i)}-x^{(i)}_{approx}||^2}{\\frac{1}{m}\\sum_{i=1}^m||x^{(i)}||^2} $$"
     ]
    },
    {
     "cell_type": "code",
     "collapsed": false,
     "input": [],
     "language": "python",
     "metadata": {},
     "outputs": []
    }
   ],
   "metadata": {}
  }
 ]
}