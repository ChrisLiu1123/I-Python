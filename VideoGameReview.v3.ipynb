{
 "cells": [
  {
   "cell_type": "markdown",
   "metadata": {},
   "source": [
    "# Importing Modules"
   ]
  },
  {
   "cell_type": "code",
   "execution_count": 1,
   "metadata": {
    "collapsed": false
   },
   "outputs": [],
   "source": [
    "from sklearn.svm import SVC\n",
    "import numpy as np\n",
    "import math\n",
    "import matplotlib.pyplot as plt\n",
    "%matplotlib inline"
   ]
  },
  {
   "cell_type": "markdown",
   "metadata": {},
   "source": [
    "## Importing raw data from .csv"
   ]
  },
  {
   "cell_type": "code",
   "execution_count": 39,
   "metadata": {
    "collapsed": false
   },
   "outputs": [],
   "source": [
    "import csv\n",
    "o = open('Test_Video_Game_Review_Pipeline_Data.csv', 'rU')\n",
    "mydata = csv.reader(o)\n",
    "\n",
    "text = []\n",
    "rating = []\n",
    "for row in mydata:\n",
    "    text.append(row[0])\n",
    "    rating.append(row[1])\n",
    "    "
   ]
  },
  {
   "cell_type": "markdown",
   "metadata": {},
   "source": [
    "#Pre-processing Data"
   ]
  },
  {
   "cell_type": "code",
   "execution_count": 40,
   "metadata": {
    "collapsed": false
   },
   "outputs": [
    {
     "name": "stdout",
     "output_type": "stream",
     "text": [
      "[[1, 1, 1, 0, 0, 0, 0, 0, 0, 0, 0, 0, 0, 0, 0, 0, 0, 0, 0, 0, 0], [1, 1, 1, 1, 0, 1, 0, 0, 0, 0, 0, 0, 0, 0, 0, 0, 0, 0, 0, 0, 0], [1, 1, 1, 0, 0, 0, 1, 1, 0, 1, 0, 0, 0, 0, 0, 0, 0, 0, 0, 0, 0], [0, 0, 0, 0, 0, 0, 0, 0, 0, 0, 0, 1, 1, 1, 0, 0, 0, 0, 0, 0, 0], [0, 0, 0, 0, 0, 0, 0, 0, 0, 0, 0, 0, 0, 1, 0, 1, 1, 0, 0, 0, 0], [0, 0, 0, 0, 0, 0, 0, 0, 0, 0, 0, 0, 1, 1, 0, 1, 0, 0, 1, 0, 0]]\n",
      "[0, 0, 0, 1, 1, 1]\n"
     ]
    }
   ],
   "source": [
    "processed = []\n",
    "for item in text:\n",
    "    divided = item.split()\n",
    "    processed.append(divided)\n",
    "\n",
    "def analyze(list_1):\n",
    "    new = [0,0,0,0,0,0,0,0,0,0,0,0,0,0,0,0,0,0,0,0,0]\n",
    "    for x in list_1:\n",
    "        if x in ['bad','Bad','bad.']:\n",
    "            new[0] = 1\n",
    "        elif x in ['sucks','sucks.']:\n",
    "            new[1] = 1\n",
    "        elif x in ['boring','boring.','boring,']:\n",
    "            new[2] = 1\n",
    "        elif x in ['terrible','terrible,','terrible.']:\n",
    "            new[3] = 1\n",
    "        elif x in ['horrible','horrible,','horrible.']:\n",
    "            new[4] = 1\n",
    "        elif x in ['disappointing','dissapointing,','dissapointing.']:\n",
    "            new[5] = 1\n",
    "        elif x in ['hack-n-slash','hack-n-slash,']:\n",
    "            new[6] = 1\n",
    "        elif x in ['buggy','buggy,','buggy.']:\n",
    "            new[7] = 1\n",
    "        elif x in ['repetitive','repetitive,','repetitive.']:\n",
    "            new[8] = 1\n",
    "        elif x in ['glitchy','glitchy,','glitchy.']:\n",
    "            new[9] = 1\n",
    "        elif x in ['overrarted','overrated,','overrated.']:\n",
    "            new[10] = 1\n",
    "        elif x in ['great','great.']:\n",
    "            new[11] = 1\n",
    "        elif x in ['greatest','Greatest','greatest!']:\n",
    "            new[12] = 1\n",
    "        elif x in ['good','good.']:\n",
    "            new[13] = 1\n",
    "        elif x in ['best','best.']:\n",
    "            new[14] = 1\n",
    "        elif x in ['fun','fun,','fun.']:\n",
    "            new[15] = 1\n",
    "        elif x in ['beautiful','beautiful,','beautiful']:\n",
    "            new[16] = 1\n",
    "        elif x in ['epic','epic,','epic.','Epic']:\n",
    "            new[17] = 1\n",
    "        elif x in ['immersive','immersion','immersive,','immersive.']:\n",
    "            new[18] = 1\n",
    "        elif x in ['addictive','addictive,','addictive.']:\n",
    "            new[19] = 1\n",
    "        elif x in ['not','Not']:\n",
    "            new[20] = 1\n",
    "    return(new)\n",
    "\n",
    "for Item in processed:\n",
    "    processed[processed.index(Item)] = analyze(Item)\n",
    "    \n",
    "print(processed)\n",
    "\n",
    "rprocessed = []\n",
    "for rate in rating:\n",
    "    rprocessed.append(int(rate))\n",
    "\n",
    "print(rprocessed)"
   ]
  },
  {
   "cell_type": "markdown",
   "metadata": {},
   "source": [
    "# Training With SVC"
   ]
  },
  {
   "cell_type": "code",
   "execution_count": 41,
   "metadata": {
    "collapsed": false
   },
   "outputs": [
    {
     "data": {
      "text/plain": [
       "SVC(C=1.0, cache_size=200, class_weight=None, coef0=0.0, degree=3, gamma=0.0,\n",
       "  kernel='rbf', max_iter=-1, probability=False, random_state=None,\n",
       "  shrinking=True, tol=0.001, verbose=False)"
      ]
     },
     "execution_count": 41,
     "metadata": {},
     "output_type": "execute_result"
    }
   ],
   "source": [
    "X = np.array(processed)\n",
    "Y = np.array(rprocessed)\n",
    "clf = SVC()\n",
    "clf.fit(X,Y)\n",
    "\n",
    "logreg = linear_model.LogisticRegression(C=1e5)\n",
    "logreg.fit(X, Y)\n"
   ]
  },
  {
   "cell_type": "markdown",
   "metadata": {},
   "source": [
    "#Input of Review"
   ]
  },
  {
   "cell_type": "code",
   "execution_count": 51,
   "metadata": {
    "collapsed": false
   },
   "outputs": [
    {
     "name": "stdout",
     "output_type": "stream",
     "text": [
      "[0, 1, 1, 0, 0, 0, 0, 0, 0, 0, 0, 0, 0, 0, 1, 1, 1, 0, 0, 0, 0]\n",
      "[0]\n"
     ]
    }
   ],
   "source": [
    "user = \"beautiful fun best sucks boring\"\n",
    "user = user.split()\n",
    "data = analyze(user)\n",
    "print data\n",
    "Z = [np.array(data)]\n",
    "print(logreg.predict(data))"
   ]
  },
  {
   "cell_type": "code",
   "execution_count": null,
   "metadata": {
    "collapsed": false
   },
   "outputs": [],
   "source": []
  }
 ],
 "metadata": {
  "kernelspec": {
   "display_name": "Python 2",
   "language": "python",
   "name": "python2"
  },
  "language_info": {
   "codemirror_mode": {
    "name": "ipython",
    "version": 2
   },
   "file_extension": ".py",
   "mimetype": "text/x-python",
   "name": "python",
   "nbconvert_exporter": "python",
   "pygments_lexer": "ipython2",
   "version": "2.7.10"
  }
 },
 "nbformat": 4,
 "nbformat_minor": 0
}
